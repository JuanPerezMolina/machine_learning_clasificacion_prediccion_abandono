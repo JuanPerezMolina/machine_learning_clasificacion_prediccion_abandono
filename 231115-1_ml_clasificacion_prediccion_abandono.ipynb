{
  "nbformat": 4,
  "nbformat_minor": 0,
  "metadata": {
    "colab": {
      "provenance": [],
      "collapsed_sections": [
        "PZ4cbt9TN5qL",
        "TWPKcRpAON6y",
        "2D4t8VjlOZIh",
        "mD7JGyVmOeEW",
        "YJ89h20BIKmV",
        "H1J-9b_OIN1M",
        "zc-qSI8yIVc7",
        "jVoCMAN6amax",
        "gcJbgkeEawhE",
        "pxwhvMLkazgJ",
        "x7MOiHlhkqa7",
        "eR7GwgGFpIYy",
        "VxcunjjspTkA"
      ]
    },
    "kernelspec": {
      "name": "python3",
      "display_name": "Python 3"
    },
    "language_info": {
      "name": "python"
    }
  },
  "cells": [
    {
      "cell_type": "markdown",
      "metadata": {
        "id": "view-in-github"
      },
      "source": [
        "<a href=\"https://colab.research.google.com/github/ahcamachod/1921-machine-learning-clasificacion-entre-bastidores/blob/main/tecnicas_de_clasificacion.ipynb\" target=\"_parent\"><img src=\"https://colab.research.google.com/assets/colab-badge.svg\" alt=\"Open In Colab\"/></a>"
      ]
    },
    {
      "cell_type": "markdown",
      "source": [
        "# **Machine Learning: Clasificación entre Bastidores**\n",
        "\n",
        "En este notebook estaremos desarrollando varias técnicas de clasificación para un conjunto de datos de una empresa de telecomunicaciones.\n",
        "\n",
        "En caso de que desees consultar el dataset original, este se encuentra en el siguiente enlace:\n",
        "https://www.kaggle.com/datasets/mnassrib/telecom-churn-datasets?select=churn-bigml-20.csv"
      ],
      "metadata": {
        "id": "hvMNh3RDG2zs"
      }
    },
    {
      "cell_type": "markdown",
      "source": [
        "### **Procedimientos:**\n",
        "1. Preparar el entorno de desarrollo en el cuaderno de Jupiter para Google Colab\n",
        "2. Importar bibliotecas de los métodos a utilizar\n",
        "3. Cargar el dataset en un DataFrame\n",
        "4. Consultar información sobre las variables del Dataframe\n",
        "5. Preprocesamiento:\n",
        "    - Eliminar variables innecesarias o que no permitan leer el dataframe\n",
        "    - Tratamiento de variables con valores faltantes\n",
        "    - Tratamiento de datos extremos y datos atípicos\n",
        "    - Normalizar los valores de todas las variables\n",
        "6. Ejemplo básico de entrenamiento de un modelo\n",
        "    - Definir los feactures\n",
        "    - Elegimos el modelo\n",
        "    - Probamos el modelo\n",
        "    - Probamos la exactitud del modelo\n",
        "    - Calculamos taza de aciertos\n",
        "7. Entrenamiento de modelo con muestras de pruebas proporcionales\n",
        "    - Estratificación proporcional de las muestras de entrada\n",
        "8. Estimador lineal para un dataset de cumplimento de entrega de proyectos\n",
        "9. Estimador no lineal\n",
        "10. Dummy classifiers y Árboles de decisión\n",
        "    - El clasificador Dummy\n",
        "    - Arbol de decisión con y sin datos estandarizados\n",
        "    - Diagrama de árbol de decisión y sus parámetros"
      ],
      "metadata": {
        "id": "pkBNoIMYNsAS"
      }
    },
    {
      "cell_type": "markdown",
      "source": [
        "### **1. Preparar el entorno de desarrollo en el cuaderno de Jupiter para Google Colab**"
      ],
      "metadata": {
        "id": "PZ4cbt9TN5qL"
      }
    },
    {
      "cell_type": "code",
      "source": [
        "from google.colab import drive\n",
        "drive.mount('/content/drive')"
      ],
      "metadata": {
        "id": "f_81d_lJOAz8",
        "colab": {
          "base_uri": "https://localhost:8080/"
        },
        "outputId": "5d88c546-b8ac-4ac9-823f-f61c75424732"
      },
      "execution_count": 47,
      "outputs": [
        {
          "output_type": "stream",
          "name": "stdout",
          "text": [
            "Drive already mounted at /content/drive; to attempt to forcibly remount, call drive.mount(\"/content/drive\", force_remount=True).\n"
          ]
        }
      ]
    },
    {
      "cell_type": "code",
      "source": [
        "# pip install -r \"/content/drive/MyDrive/Colab Notebooks/231115-1_machine_learning_clasificacion_entre_bastidores/requirements.txt\""
      ],
      "metadata": {
        "id": "BxjEQWy_OF4i"
      },
      "execution_count": 48,
      "outputs": []
    },
    {
      "cell_type": "code",
      "source": [
        "# How can I suppresed Python warnings in Jupyter Notebook\n",
        "# Why not just set n_init=10 explicitly and retain the same value as the default and get rid of those warnings?\n",
        "import warnings\n",
        "warnings.filterwarnings('ignore')"
      ],
      "metadata": {
        "id": "EYuPCdG6OKGy"
      },
      "execution_count": 49,
      "outputs": []
    },
    {
      "cell_type": "markdown",
      "source": [
        "### **2. Importar bibliotecas de los métodos a utilizar**"
      ],
      "metadata": {
        "id": "TWPKcRpAON6y"
      }
    },
    {
      "cell_type": "code",
      "source": [
        "# Las versiones de las bibliotecas que usaremos son las siguientes:\n",
        "import matplotlib\n",
        "import numpy as np\n",
        "import pandas as pd\n",
        "import seaborn as sns\n",
        "import sklearn\n",
        "from sklearn.svm import LinearSVC\n",
        "from sklearn.metrics import accuracy_score\n",
        "from sklearn.model_selection import train_test_split\n",
        "\n",
        "# pip: pip install -U imbalanced-learn\n",
        "from imblearn.over_sampling import SMOTE\n",
        "\n",
        "print(f'matplotlib --> {matplotlib.__version__}')\n",
        "print(f'pandas --> {pd.__version__}')\n",
        "print(f'numpy --> {np.__version__}')\n",
        "print(f'seaborn --> {sns.__version__}')\n",
        "print(f'sklearn --> {sklearn.__version__}')"
      ],
      "metadata": {
        "colab": {
          "base_uri": "https://localhost:8080/"
        },
        "id": "ORtFYgllOTMt",
        "outputId": "678e5f51-e0e9-45fa-f8e7-5364e06fc280"
      },
      "execution_count": 50,
      "outputs": [
        {
          "output_type": "stream",
          "name": "stdout",
          "text": [
            "matplotlib --> 3.7.1\n",
            "pandas --> 1.5.3\n",
            "numpy --> 1.23.5\n",
            "seaborn --> 0.12.2\n",
            "sklearn --> 1.2.2\n"
          ]
        }
      ]
    },
    {
      "cell_type": "markdown",
      "source": [
        "### **3. Cargar el dataset en un dataframe**"
      ],
      "metadata": {
        "id": "2D4t8VjlOZIh"
      }
    },
    {
      "cell_type": "code",
      "source": [
        "ruta= '/content/drive/MyDrive/Colab Notebooks/231115-1_machine_learning_clasificacion_entre_bastidores/datasets/customer_churn.csv'\n",
        "clientes_servicios_df = pd.read_csv(ruta)"
      ],
      "metadata": {
        "id": "dTYeoKoPO1p-"
      },
      "execution_count": 51,
      "outputs": []
    },
    {
      "cell_type": "markdown",
      "source": [
        "### **4. Consultar información sobre las variables del Dataframe**"
      ],
      "metadata": {
        "id": "mD7JGyVmOeEW"
      }
    },
    {
      "cell_type": "code",
      "source": [
        "clientes_servicios_df.head()"
      ],
      "metadata": {
        "colab": {
          "base_uri": "https://localhost:8080/",
          "height": 0
        },
        "id": "RIb2_JPNPuc9",
        "outputId": "48101cb2-eeb4-4512-bb3d-6cf7a55e7b1d"
      },
      "execution_count": 52,
      "outputs": [
        {
          "output_type": "execute_result",
          "data": {
            "text/plain": [
              "   Mayor65Anos Conyuge Dependientes  MesesDeContrato TelefonoFijo  \\\n",
              "0            0      Si           No                1           No   \n",
              "1            0      No           No               34           Si   \n",
              "2            0      No           No                2           Si   \n",
              "3            0      No           No               45           No   \n",
              "4            0      No           No                2           Si   \n",
              "\n",
              "  VariasLineasTelefonicas ServicioDeInternet SeguridadOnline BackupOnline  \\\n",
              "0   SinServicioTelefonico                DSL              No           Si   \n",
              "1                      No                DSL              Si           No   \n",
              "2                      No                DSL              Si           Si   \n",
              "3   SinServicioTelefonico                DSL              Si           No   \n",
              "4                      No        FibraOptica              No           No   \n",
              "\n",
              "  SeguroEnDispositivo SoporteTecnico TVaCable StreamingDePeliculas  \\\n",
              "0                  No             No       No                   No   \n",
              "1                  Si             No       No                   No   \n",
              "2                  No             No       No                   No   \n",
              "3                  Si             Si       No                   No   \n",
              "4                  No             No       No                   No   \n",
              "\n",
              "  TipoDeContrato PagoOnline       FormaDePago  CuentaMensual Churn  \n",
              "0        Mensual         Si     ChequeDigital          29.85    No  \n",
              "1          Anual         No       ChequePapel          56.95    No  \n",
              "2        Mensual         Si       ChequePapel          53.85    Si  \n",
              "3          Anual         No  DebitoAutomatico          42.30    No  \n",
              "4        Mensual         Si     ChequeDigital          70.70    Si  "
            ],
            "text/html": [
              "\n",
              "  <div id=\"df-d48ad3ea-bb56-45fd-8568-cb9c55a7837b\" class=\"colab-df-container\">\n",
              "    <div>\n",
              "<style scoped>\n",
              "    .dataframe tbody tr th:only-of-type {\n",
              "        vertical-align: middle;\n",
              "    }\n",
              "\n",
              "    .dataframe tbody tr th {\n",
              "        vertical-align: top;\n",
              "    }\n",
              "\n",
              "    .dataframe thead th {\n",
              "        text-align: right;\n",
              "    }\n",
              "</style>\n",
              "<table border=\"1\" class=\"dataframe\">\n",
              "  <thead>\n",
              "    <tr style=\"text-align: right;\">\n",
              "      <th></th>\n",
              "      <th>Mayor65Anos</th>\n",
              "      <th>Conyuge</th>\n",
              "      <th>Dependientes</th>\n",
              "      <th>MesesDeContrato</th>\n",
              "      <th>TelefonoFijo</th>\n",
              "      <th>VariasLineasTelefonicas</th>\n",
              "      <th>ServicioDeInternet</th>\n",
              "      <th>SeguridadOnline</th>\n",
              "      <th>BackupOnline</th>\n",
              "      <th>SeguroEnDispositivo</th>\n",
              "      <th>SoporteTecnico</th>\n",
              "      <th>TVaCable</th>\n",
              "      <th>StreamingDePeliculas</th>\n",
              "      <th>TipoDeContrato</th>\n",
              "      <th>PagoOnline</th>\n",
              "      <th>FormaDePago</th>\n",
              "      <th>CuentaMensual</th>\n",
              "      <th>Churn</th>\n",
              "    </tr>\n",
              "  </thead>\n",
              "  <tbody>\n",
              "    <tr>\n",
              "      <th>0</th>\n",
              "      <td>0</td>\n",
              "      <td>Si</td>\n",
              "      <td>No</td>\n",
              "      <td>1</td>\n",
              "      <td>No</td>\n",
              "      <td>SinServicioTelefonico</td>\n",
              "      <td>DSL</td>\n",
              "      <td>No</td>\n",
              "      <td>Si</td>\n",
              "      <td>No</td>\n",
              "      <td>No</td>\n",
              "      <td>No</td>\n",
              "      <td>No</td>\n",
              "      <td>Mensual</td>\n",
              "      <td>Si</td>\n",
              "      <td>ChequeDigital</td>\n",
              "      <td>29.85</td>\n",
              "      <td>No</td>\n",
              "    </tr>\n",
              "    <tr>\n",
              "      <th>1</th>\n",
              "      <td>0</td>\n",
              "      <td>No</td>\n",
              "      <td>No</td>\n",
              "      <td>34</td>\n",
              "      <td>Si</td>\n",
              "      <td>No</td>\n",
              "      <td>DSL</td>\n",
              "      <td>Si</td>\n",
              "      <td>No</td>\n",
              "      <td>Si</td>\n",
              "      <td>No</td>\n",
              "      <td>No</td>\n",
              "      <td>No</td>\n",
              "      <td>Anual</td>\n",
              "      <td>No</td>\n",
              "      <td>ChequePapel</td>\n",
              "      <td>56.95</td>\n",
              "      <td>No</td>\n",
              "    </tr>\n",
              "    <tr>\n",
              "      <th>2</th>\n",
              "      <td>0</td>\n",
              "      <td>No</td>\n",
              "      <td>No</td>\n",
              "      <td>2</td>\n",
              "      <td>Si</td>\n",
              "      <td>No</td>\n",
              "      <td>DSL</td>\n",
              "      <td>Si</td>\n",
              "      <td>Si</td>\n",
              "      <td>No</td>\n",
              "      <td>No</td>\n",
              "      <td>No</td>\n",
              "      <td>No</td>\n",
              "      <td>Mensual</td>\n",
              "      <td>Si</td>\n",
              "      <td>ChequePapel</td>\n",
              "      <td>53.85</td>\n",
              "      <td>Si</td>\n",
              "    </tr>\n",
              "    <tr>\n",
              "      <th>3</th>\n",
              "      <td>0</td>\n",
              "      <td>No</td>\n",
              "      <td>No</td>\n",
              "      <td>45</td>\n",
              "      <td>No</td>\n",
              "      <td>SinServicioTelefonico</td>\n",
              "      <td>DSL</td>\n",
              "      <td>Si</td>\n",
              "      <td>No</td>\n",
              "      <td>Si</td>\n",
              "      <td>Si</td>\n",
              "      <td>No</td>\n",
              "      <td>No</td>\n",
              "      <td>Anual</td>\n",
              "      <td>No</td>\n",
              "      <td>DebitoAutomatico</td>\n",
              "      <td>42.30</td>\n",
              "      <td>No</td>\n",
              "    </tr>\n",
              "    <tr>\n",
              "      <th>4</th>\n",
              "      <td>0</td>\n",
              "      <td>No</td>\n",
              "      <td>No</td>\n",
              "      <td>2</td>\n",
              "      <td>Si</td>\n",
              "      <td>No</td>\n",
              "      <td>FibraOptica</td>\n",
              "      <td>No</td>\n",
              "      <td>No</td>\n",
              "      <td>No</td>\n",
              "      <td>No</td>\n",
              "      <td>No</td>\n",
              "      <td>No</td>\n",
              "      <td>Mensual</td>\n",
              "      <td>Si</td>\n",
              "      <td>ChequeDigital</td>\n",
              "      <td>70.70</td>\n",
              "      <td>Si</td>\n",
              "    </tr>\n",
              "  </tbody>\n",
              "</table>\n",
              "</div>\n",
              "    <div class=\"colab-df-buttons\">\n",
              "\n",
              "  <div class=\"colab-df-container\">\n",
              "    <button class=\"colab-df-convert\" onclick=\"convertToInteractive('df-d48ad3ea-bb56-45fd-8568-cb9c55a7837b')\"\n",
              "            title=\"Convert this dataframe to an interactive table.\"\n",
              "            style=\"display:none;\">\n",
              "\n",
              "  <svg xmlns=\"http://www.w3.org/2000/svg\" height=\"24px\" viewBox=\"0 -960 960 960\">\n",
              "    <path d=\"M120-120v-720h720v720H120Zm60-500h600v-160H180v160Zm220 220h160v-160H400v160Zm0 220h160v-160H400v160ZM180-400h160v-160H180v160Zm440 0h160v-160H620v160ZM180-180h160v-160H180v160Zm440 0h160v-160H620v160Z\"/>\n",
              "  </svg>\n",
              "    </button>\n",
              "\n",
              "  <style>\n",
              "    .colab-df-container {\n",
              "      display:flex;\n",
              "      gap: 12px;\n",
              "    }\n",
              "\n",
              "    .colab-df-convert {\n",
              "      background-color: #E8F0FE;\n",
              "      border: none;\n",
              "      border-radius: 50%;\n",
              "      cursor: pointer;\n",
              "      display: none;\n",
              "      fill: #1967D2;\n",
              "      height: 32px;\n",
              "      padding: 0 0 0 0;\n",
              "      width: 32px;\n",
              "    }\n",
              "\n",
              "    .colab-df-convert:hover {\n",
              "      background-color: #E2EBFA;\n",
              "      box-shadow: 0px 1px 2px rgba(60, 64, 67, 0.3), 0px 1px 3px 1px rgba(60, 64, 67, 0.15);\n",
              "      fill: #174EA6;\n",
              "    }\n",
              "\n",
              "    .colab-df-buttons div {\n",
              "      margin-bottom: 4px;\n",
              "    }\n",
              "\n",
              "    [theme=dark] .colab-df-convert {\n",
              "      background-color: #3B4455;\n",
              "      fill: #D2E3FC;\n",
              "    }\n",
              "\n",
              "    [theme=dark] .colab-df-convert:hover {\n",
              "      background-color: #434B5C;\n",
              "      box-shadow: 0px 1px 3px 1px rgba(0, 0, 0, 0.15);\n",
              "      filter: drop-shadow(0px 1px 2px rgba(0, 0, 0, 0.3));\n",
              "      fill: #FFFFFF;\n",
              "    }\n",
              "  </style>\n",
              "\n",
              "    <script>\n",
              "      const buttonEl =\n",
              "        document.querySelector('#df-d48ad3ea-bb56-45fd-8568-cb9c55a7837b button.colab-df-convert');\n",
              "      buttonEl.style.display =\n",
              "        google.colab.kernel.accessAllowed ? 'block' : 'none';\n",
              "\n",
              "      async function convertToInteractive(key) {\n",
              "        const element = document.querySelector('#df-d48ad3ea-bb56-45fd-8568-cb9c55a7837b');\n",
              "        const dataTable =\n",
              "          await google.colab.kernel.invokeFunction('convertToInteractive',\n",
              "                                                    [key], {});\n",
              "        if (!dataTable) return;\n",
              "\n",
              "        const docLinkHtml = 'Like what you see? Visit the ' +\n",
              "          '<a target=\"_blank\" href=https://colab.research.google.com/notebooks/data_table.ipynb>data table notebook</a>'\n",
              "          + ' to learn more about interactive tables.';\n",
              "        element.innerHTML = '';\n",
              "        dataTable['output_type'] = 'display_data';\n",
              "        await google.colab.output.renderOutput(dataTable, element);\n",
              "        const docLink = document.createElement('div');\n",
              "        docLink.innerHTML = docLinkHtml;\n",
              "        element.appendChild(docLink);\n",
              "      }\n",
              "    </script>\n",
              "  </div>\n",
              "\n",
              "\n",
              "<div id=\"df-b8a8cd69-b7c2-4f0a-8a66-bd1fbcb88edb\">\n",
              "  <button class=\"colab-df-quickchart\" onclick=\"quickchart('df-b8a8cd69-b7c2-4f0a-8a66-bd1fbcb88edb')\"\n",
              "            title=\"Suggest charts\"\n",
              "            style=\"display:none;\">\n",
              "\n",
              "<svg xmlns=\"http://www.w3.org/2000/svg\" height=\"24px\"viewBox=\"0 0 24 24\"\n",
              "     width=\"24px\">\n",
              "    <g>\n",
              "        <path d=\"M19 3H5c-1.1 0-2 .9-2 2v14c0 1.1.9 2 2 2h14c1.1 0 2-.9 2-2V5c0-1.1-.9-2-2-2zM9 17H7v-7h2v7zm4 0h-2V7h2v10zm4 0h-2v-4h2v4z\"/>\n",
              "    </g>\n",
              "</svg>\n",
              "  </button>\n",
              "\n",
              "<style>\n",
              "  .colab-df-quickchart {\n",
              "      --bg-color: #E8F0FE;\n",
              "      --fill-color: #1967D2;\n",
              "      --hover-bg-color: #E2EBFA;\n",
              "      --hover-fill-color: #174EA6;\n",
              "      --disabled-fill-color: #AAA;\n",
              "      --disabled-bg-color: #DDD;\n",
              "  }\n",
              "\n",
              "  [theme=dark] .colab-df-quickchart {\n",
              "      --bg-color: #3B4455;\n",
              "      --fill-color: #D2E3FC;\n",
              "      --hover-bg-color: #434B5C;\n",
              "      --hover-fill-color: #FFFFFF;\n",
              "      --disabled-bg-color: #3B4455;\n",
              "      --disabled-fill-color: #666;\n",
              "  }\n",
              "\n",
              "  .colab-df-quickchart {\n",
              "    background-color: var(--bg-color);\n",
              "    border: none;\n",
              "    border-radius: 50%;\n",
              "    cursor: pointer;\n",
              "    display: none;\n",
              "    fill: var(--fill-color);\n",
              "    height: 32px;\n",
              "    padding: 0;\n",
              "    width: 32px;\n",
              "  }\n",
              "\n",
              "  .colab-df-quickchart:hover {\n",
              "    background-color: var(--hover-bg-color);\n",
              "    box-shadow: 0 1px 2px rgba(60, 64, 67, 0.3), 0 1px 3px 1px rgba(60, 64, 67, 0.15);\n",
              "    fill: var(--button-hover-fill-color);\n",
              "  }\n",
              "\n",
              "  .colab-df-quickchart-complete:disabled,\n",
              "  .colab-df-quickchart-complete:disabled:hover {\n",
              "    background-color: var(--disabled-bg-color);\n",
              "    fill: var(--disabled-fill-color);\n",
              "    box-shadow: none;\n",
              "  }\n",
              "\n",
              "  .colab-df-spinner {\n",
              "    border: 2px solid var(--fill-color);\n",
              "    border-color: transparent;\n",
              "    border-bottom-color: var(--fill-color);\n",
              "    animation:\n",
              "      spin 1s steps(1) infinite;\n",
              "  }\n",
              "\n",
              "  @keyframes spin {\n",
              "    0% {\n",
              "      border-color: transparent;\n",
              "      border-bottom-color: var(--fill-color);\n",
              "      border-left-color: var(--fill-color);\n",
              "    }\n",
              "    20% {\n",
              "      border-color: transparent;\n",
              "      border-left-color: var(--fill-color);\n",
              "      border-top-color: var(--fill-color);\n",
              "    }\n",
              "    30% {\n",
              "      border-color: transparent;\n",
              "      border-left-color: var(--fill-color);\n",
              "      border-top-color: var(--fill-color);\n",
              "      border-right-color: var(--fill-color);\n",
              "    }\n",
              "    40% {\n",
              "      border-color: transparent;\n",
              "      border-right-color: var(--fill-color);\n",
              "      border-top-color: var(--fill-color);\n",
              "    }\n",
              "    60% {\n",
              "      border-color: transparent;\n",
              "      border-right-color: var(--fill-color);\n",
              "    }\n",
              "    80% {\n",
              "      border-color: transparent;\n",
              "      border-right-color: var(--fill-color);\n",
              "      border-bottom-color: var(--fill-color);\n",
              "    }\n",
              "    90% {\n",
              "      border-color: transparent;\n",
              "      border-bottom-color: var(--fill-color);\n",
              "    }\n",
              "  }\n",
              "</style>\n",
              "\n",
              "  <script>\n",
              "    async function quickchart(key) {\n",
              "      const quickchartButtonEl =\n",
              "        document.querySelector('#' + key + ' button');\n",
              "      quickchartButtonEl.disabled = true;  // To prevent multiple clicks.\n",
              "      quickchartButtonEl.classList.add('colab-df-spinner');\n",
              "      try {\n",
              "        const charts = await google.colab.kernel.invokeFunction(\n",
              "            'suggestCharts', [key], {});\n",
              "      } catch (error) {\n",
              "        console.error('Error during call to suggestCharts:', error);\n",
              "      }\n",
              "      quickchartButtonEl.classList.remove('colab-df-spinner');\n",
              "      quickchartButtonEl.classList.add('colab-df-quickchart-complete');\n",
              "    }\n",
              "    (() => {\n",
              "      let quickchartButtonEl =\n",
              "        document.querySelector('#df-b8a8cd69-b7c2-4f0a-8a66-bd1fbcb88edb button');\n",
              "      quickchartButtonEl.style.display =\n",
              "        google.colab.kernel.accessAllowed ? 'block' : 'none';\n",
              "    })();\n",
              "  </script>\n",
              "</div>\n",
              "    </div>\n",
              "  </div>\n"
            ]
          },
          "metadata": {},
          "execution_count": 52
        }
      ]
    },
    {
      "cell_type": "code",
      "source": [
        "clientes_servicios_df.shape"
      ],
      "metadata": {
        "colab": {
          "base_uri": "https://localhost:8080/"
        },
        "id": "TI3Xcpa6P3Vr",
        "outputId": "d98b90ec-c9eb-4f55-eb50-2d78a94a53d5"
      },
      "execution_count": 53,
      "outputs": [
        {
          "output_type": "execute_result",
          "data": {
            "text/plain": [
              "(7043, 18)"
            ]
          },
          "metadata": {},
          "execution_count": 53
        }
      ]
    },
    {
      "cell_type": "code",
      "source": [
        "clientes_servicios_df.info()"
      ],
      "metadata": {
        "colab": {
          "base_uri": "https://localhost:8080/"
        },
        "id": "tVV3G8rLP9jd",
        "outputId": "05442a7d-1760-4146-802e-43f3b6e3e7db"
      },
      "execution_count": 54,
      "outputs": [
        {
          "output_type": "stream",
          "name": "stdout",
          "text": [
            "<class 'pandas.core.frame.DataFrame'>\n",
            "RangeIndex: 7043 entries, 0 to 7042\n",
            "Data columns (total 18 columns):\n",
            " #   Column                   Non-Null Count  Dtype  \n",
            "---  ------                   --------------  -----  \n",
            " 0   Mayor65Anos              7043 non-null   int64  \n",
            " 1   Conyuge                  7043 non-null   object \n",
            " 2   Dependientes             7043 non-null   object \n",
            " 3   MesesDeContrato          7043 non-null   int64  \n",
            " 4   TelefonoFijo             7043 non-null   object \n",
            " 5   VariasLineasTelefonicas  7043 non-null   object \n",
            " 6   ServicioDeInternet       7043 non-null   object \n",
            " 7   SeguridadOnline          7043 non-null   object \n",
            " 8   BackupOnline             7043 non-null   object \n",
            " 9   SeguroEnDispositivo      7043 non-null   object \n",
            " 10  SoporteTecnico           7043 non-null   object \n",
            " 11  TVaCable                 7043 non-null   object \n",
            " 12  StreamingDePeliculas     7043 non-null   object \n",
            " 13  TipoDeContrato           7043 non-null   object \n",
            " 14  PagoOnline               7043 non-null   object \n",
            " 15  FormaDePago              7043 non-null   object \n",
            " 16  CuentaMensual            7043 non-null   float64\n",
            " 17  Churn                    7043 non-null   object \n",
            "dtypes: float64(1), int64(2), object(15)\n",
            "memory usage: 990.5+ KB\n"
          ]
        }
      ]
    },
    {
      "cell_type": "markdown",
      "source": [
        "## Aula 1"
      ],
      "metadata": {
        "id": "YJ89h20BIKmV"
      }
    },
    {
      "cell_type": "markdown",
      "source": [
        "### 1.2 Importando los datos"
      ],
      "metadata": {
        "id": "H1J-9b_OIN1M"
      }
    },
    {
      "cell_type": "code",
      "source": [],
      "metadata": {
        "id": "lKEO4Uw7Ghng"
      },
      "execution_count": 54,
      "outputs": []
    },
    {
      "cell_type": "code",
      "source": [],
      "metadata": {
        "id": "9igD3FTOGhqI"
      },
      "execution_count": 54,
      "outputs": []
    },
    {
      "cell_type": "code",
      "source": [],
      "metadata": {
        "id": "PoMdzkcuGiJE"
      },
      "execution_count": 54,
      "outputs": []
    },
    {
      "cell_type": "markdown",
      "source": [
        "### 1.3 Tipos de variables"
      ],
      "metadata": {
        "id": "zc-qSI8yIVc7"
      }
    },
    {
      "cell_type": "markdown",
      "source": [
        "Identificar que variables son cualitativas (categoricas) ordinales o nominales y cuales son cuantitativas (numéricas) discretas o continuas. Sobre las variables cualitativas hacemos las transformaciones necesarias para poder alimentar los modelos de clasificación:\n",
        "- Conyuge                  (Cualitativa,   Nominal)\n",
        "- Dependientes             (Cualitativa,   Nominal)\n",
        "- MesesDeContrato          (Cuantitativa,  discreta)  \n",
        "- TelefonoFijo             (Cualitativa,   Nominal)\n",
        "- VariasLineasTelefonicas  (Cualitativa,   Nominal)\n",
        "- ServicioDeInternet       (Cualitativa,   Nominal)\n",
        "- SeguridadOnline          (Cualitativa,   Nominal)\n",
        "- BackupOnline             (Cualitativa,   Nominal)\n",
        "- SeguroEnDispositivo      (Cualitativa,   Nominal)\n",
        "- SoporteTecnico           (Cualitativa,   Nominal)\n",
        "- TVaCable                 (Cualitativa,   Nominal)\n",
        "- StreamingDePeliculas     (Cualitativa,   Nominal)\n",
        "- TipoDeContrato           (Cualitativa,   Nominal)\n",
        "- PagoOnline               (Cualitativa,   Nominal)\n",
        "- FormaDePago              (Cualitativa,   Nominal)\n",
        "- CuentaMensual            (Cuantitativa,  contínua)\n",
        "- Churn                    (Cualitativa,   Nominal)      "
      ],
      "metadata": {
        "id": "n0D0C2qHBDr0"
      }
    },
    {
      "cell_type": "code",
      "source": [
        "clientes_servicios_df.Conyuge.value_counts()\n"
      ],
      "metadata": {
        "id": "pcs68A9pGj3M",
        "colab": {
          "base_uri": "https://localhost:8080/"
        },
        "outputId": "a06bf3a0-325e-4ee7-b443-b79ea090be42"
      },
      "execution_count": 55,
      "outputs": [
        {
          "output_type": "execute_result",
          "data": {
            "text/plain": [
              "No    3641\n",
              "Si    3402\n",
              "Name: Conyuge, dtype: int64"
            ]
          },
          "metadata": {},
          "execution_count": 55
        }
      ]
    },
    {
      "cell_type": "code",
      "source": [
        "clientes_servicios_df.Dependientes.value_counts()"
      ],
      "metadata": {
        "colab": {
          "base_uri": "https://localhost:8080/"
        },
        "id": "KioHosCXRp7u",
        "outputId": "f422704b-778f-467d-d3a7-0991b6ddcd9a"
      },
      "execution_count": 56,
      "outputs": [
        {
          "output_type": "execute_result",
          "data": {
            "text/plain": [
              "No    4933\n",
              "Si    2110\n",
              "Name: Dependientes, dtype: int64"
            ]
          },
          "metadata": {},
          "execution_count": 56
        }
      ]
    },
    {
      "cell_type": "code",
      "source": [
        "traduccion = {'Si':1, 'No':0}\n",
        "datos_modificados_df = clientes_servicios_df[['Conyuge','Dependientes','TelefonoFijo', 'PagoOnline','Churn']].replace(traduccion)\n",
        "datos_modificados_df.head()"
      ],
      "metadata": {
        "id": "6wUdz4auGj52",
        "colab": {
          "base_uri": "https://localhost:8080/",
          "height": 0
        },
        "outputId": "261f8b40-94a2-470b-a2c2-034ebe5c02d6"
      },
      "execution_count": 57,
      "outputs": [
        {
          "output_type": "execute_result",
          "data": {
            "text/plain": [
              "   Conyuge  Dependientes  TelefonoFijo  PagoOnline  Churn\n",
              "0        1             0             0           1      0\n",
              "1        0             0             1           0      0\n",
              "2        0             0             1           1      1\n",
              "3        0             0             0           0      0\n",
              "4        0             0             1           1      1"
            ],
            "text/html": [
              "\n",
              "  <div id=\"df-124f26ab-ed62-48a8-b3da-1ec3287f952d\" class=\"colab-df-container\">\n",
              "    <div>\n",
              "<style scoped>\n",
              "    .dataframe tbody tr th:only-of-type {\n",
              "        vertical-align: middle;\n",
              "    }\n",
              "\n",
              "    .dataframe tbody tr th {\n",
              "        vertical-align: top;\n",
              "    }\n",
              "\n",
              "    .dataframe thead th {\n",
              "        text-align: right;\n",
              "    }\n",
              "</style>\n",
              "<table border=\"1\" class=\"dataframe\">\n",
              "  <thead>\n",
              "    <tr style=\"text-align: right;\">\n",
              "      <th></th>\n",
              "      <th>Conyuge</th>\n",
              "      <th>Dependientes</th>\n",
              "      <th>TelefonoFijo</th>\n",
              "      <th>PagoOnline</th>\n",
              "      <th>Churn</th>\n",
              "    </tr>\n",
              "  </thead>\n",
              "  <tbody>\n",
              "    <tr>\n",
              "      <th>0</th>\n",
              "      <td>1</td>\n",
              "      <td>0</td>\n",
              "      <td>0</td>\n",
              "      <td>1</td>\n",
              "      <td>0</td>\n",
              "    </tr>\n",
              "    <tr>\n",
              "      <th>1</th>\n",
              "      <td>0</td>\n",
              "      <td>0</td>\n",
              "      <td>1</td>\n",
              "      <td>0</td>\n",
              "      <td>0</td>\n",
              "    </tr>\n",
              "    <tr>\n",
              "      <th>2</th>\n",
              "      <td>0</td>\n",
              "      <td>0</td>\n",
              "      <td>1</td>\n",
              "      <td>1</td>\n",
              "      <td>1</td>\n",
              "    </tr>\n",
              "    <tr>\n",
              "      <th>3</th>\n",
              "      <td>0</td>\n",
              "      <td>0</td>\n",
              "      <td>0</td>\n",
              "      <td>0</td>\n",
              "      <td>0</td>\n",
              "    </tr>\n",
              "    <tr>\n",
              "      <th>4</th>\n",
              "      <td>0</td>\n",
              "      <td>0</td>\n",
              "      <td>1</td>\n",
              "      <td>1</td>\n",
              "      <td>1</td>\n",
              "    </tr>\n",
              "  </tbody>\n",
              "</table>\n",
              "</div>\n",
              "    <div class=\"colab-df-buttons\">\n",
              "\n",
              "  <div class=\"colab-df-container\">\n",
              "    <button class=\"colab-df-convert\" onclick=\"convertToInteractive('df-124f26ab-ed62-48a8-b3da-1ec3287f952d')\"\n",
              "            title=\"Convert this dataframe to an interactive table.\"\n",
              "            style=\"display:none;\">\n",
              "\n",
              "  <svg xmlns=\"http://www.w3.org/2000/svg\" height=\"24px\" viewBox=\"0 -960 960 960\">\n",
              "    <path d=\"M120-120v-720h720v720H120Zm60-500h600v-160H180v160Zm220 220h160v-160H400v160Zm0 220h160v-160H400v160ZM180-400h160v-160H180v160Zm440 0h160v-160H620v160ZM180-180h160v-160H180v160Zm440 0h160v-160H620v160Z\"/>\n",
              "  </svg>\n",
              "    </button>\n",
              "\n",
              "  <style>\n",
              "    .colab-df-container {\n",
              "      display:flex;\n",
              "      gap: 12px;\n",
              "    }\n",
              "\n",
              "    .colab-df-convert {\n",
              "      background-color: #E8F0FE;\n",
              "      border: none;\n",
              "      border-radius: 50%;\n",
              "      cursor: pointer;\n",
              "      display: none;\n",
              "      fill: #1967D2;\n",
              "      height: 32px;\n",
              "      padding: 0 0 0 0;\n",
              "      width: 32px;\n",
              "    }\n",
              "\n",
              "    .colab-df-convert:hover {\n",
              "      background-color: #E2EBFA;\n",
              "      box-shadow: 0px 1px 2px rgba(60, 64, 67, 0.3), 0px 1px 3px 1px rgba(60, 64, 67, 0.15);\n",
              "      fill: #174EA6;\n",
              "    }\n",
              "\n",
              "    .colab-df-buttons div {\n",
              "      margin-bottom: 4px;\n",
              "    }\n",
              "\n",
              "    [theme=dark] .colab-df-convert {\n",
              "      background-color: #3B4455;\n",
              "      fill: #D2E3FC;\n",
              "    }\n",
              "\n",
              "    [theme=dark] .colab-df-convert:hover {\n",
              "      background-color: #434B5C;\n",
              "      box-shadow: 0px 1px 3px 1px rgba(0, 0, 0, 0.15);\n",
              "      filter: drop-shadow(0px 1px 2px rgba(0, 0, 0, 0.3));\n",
              "      fill: #FFFFFF;\n",
              "    }\n",
              "  </style>\n",
              "\n",
              "    <script>\n",
              "      const buttonEl =\n",
              "        document.querySelector('#df-124f26ab-ed62-48a8-b3da-1ec3287f952d button.colab-df-convert');\n",
              "      buttonEl.style.display =\n",
              "        google.colab.kernel.accessAllowed ? 'block' : 'none';\n",
              "\n",
              "      async function convertToInteractive(key) {\n",
              "        const element = document.querySelector('#df-124f26ab-ed62-48a8-b3da-1ec3287f952d');\n",
              "        const dataTable =\n",
              "          await google.colab.kernel.invokeFunction('convertToInteractive',\n",
              "                                                    [key], {});\n",
              "        if (!dataTable) return;\n",
              "\n",
              "        const docLinkHtml = 'Like what you see? Visit the ' +\n",
              "          '<a target=\"_blank\" href=https://colab.research.google.com/notebooks/data_table.ipynb>data table notebook</a>'\n",
              "          + ' to learn more about interactive tables.';\n",
              "        element.innerHTML = '';\n",
              "        dataTable['output_type'] = 'display_data';\n",
              "        await google.colab.output.renderOutput(dataTable, element);\n",
              "        const docLink = document.createElement('div');\n",
              "        docLink.innerHTML = docLinkHtml;\n",
              "        element.appendChild(docLink);\n",
              "      }\n",
              "    </script>\n",
              "  </div>\n",
              "\n",
              "\n",
              "<div id=\"df-96ebb6a6-30ca-4455-b574-425f78f73e0b\">\n",
              "  <button class=\"colab-df-quickchart\" onclick=\"quickchart('df-96ebb6a6-30ca-4455-b574-425f78f73e0b')\"\n",
              "            title=\"Suggest charts\"\n",
              "            style=\"display:none;\">\n",
              "\n",
              "<svg xmlns=\"http://www.w3.org/2000/svg\" height=\"24px\"viewBox=\"0 0 24 24\"\n",
              "     width=\"24px\">\n",
              "    <g>\n",
              "        <path d=\"M19 3H5c-1.1 0-2 .9-2 2v14c0 1.1.9 2 2 2h14c1.1 0 2-.9 2-2V5c0-1.1-.9-2-2-2zM9 17H7v-7h2v7zm4 0h-2V7h2v10zm4 0h-2v-4h2v4z\"/>\n",
              "    </g>\n",
              "</svg>\n",
              "  </button>\n",
              "\n",
              "<style>\n",
              "  .colab-df-quickchart {\n",
              "      --bg-color: #E8F0FE;\n",
              "      --fill-color: #1967D2;\n",
              "      --hover-bg-color: #E2EBFA;\n",
              "      --hover-fill-color: #174EA6;\n",
              "      --disabled-fill-color: #AAA;\n",
              "      --disabled-bg-color: #DDD;\n",
              "  }\n",
              "\n",
              "  [theme=dark] .colab-df-quickchart {\n",
              "      --bg-color: #3B4455;\n",
              "      --fill-color: #D2E3FC;\n",
              "      --hover-bg-color: #434B5C;\n",
              "      --hover-fill-color: #FFFFFF;\n",
              "      --disabled-bg-color: #3B4455;\n",
              "      --disabled-fill-color: #666;\n",
              "  }\n",
              "\n",
              "  .colab-df-quickchart {\n",
              "    background-color: var(--bg-color);\n",
              "    border: none;\n",
              "    border-radius: 50%;\n",
              "    cursor: pointer;\n",
              "    display: none;\n",
              "    fill: var(--fill-color);\n",
              "    height: 32px;\n",
              "    padding: 0;\n",
              "    width: 32px;\n",
              "  }\n",
              "\n",
              "  .colab-df-quickchart:hover {\n",
              "    background-color: var(--hover-bg-color);\n",
              "    box-shadow: 0 1px 2px rgba(60, 64, 67, 0.3), 0 1px 3px 1px rgba(60, 64, 67, 0.15);\n",
              "    fill: var(--button-hover-fill-color);\n",
              "  }\n",
              "\n",
              "  .colab-df-quickchart-complete:disabled,\n",
              "  .colab-df-quickchart-complete:disabled:hover {\n",
              "    background-color: var(--disabled-bg-color);\n",
              "    fill: var(--disabled-fill-color);\n",
              "    box-shadow: none;\n",
              "  }\n",
              "\n",
              "  .colab-df-spinner {\n",
              "    border: 2px solid var(--fill-color);\n",
              "    border-color: transparent;\n",
              "    border-bottom-color: var(--fill-color);\n",
              "    animation:\n",
              "      spin 1s steps(1) infinite;\n",
              "  }\n",
              "\n",
              "  @keyframes spin {\n",
              "    0% {\n",
              "      border-color: transparent;\n",
              "      border-bottom-color: var(--fill-color);\n",
              "      border-left-color: var(--fill-color);\n",
              "    }\n",
              "    20% {\n",
              "      border-color: transparent;\n",
              "      border-left-color: var(--fill-color);\n",
              "      border-top-color: var(--fill-color);\n",
              "    }\n",
              "    30% {\n",
              "      border-color: transparent;\n",
              "      border-left-color: var(--fill-color);\n",
              "      border-top-color: var(--fill-color);\n",
              "      border-right-color: var(--fill-color);\n",
              "    }\n",
              "    40% {\n",
              "      border-color: transparent;\n",
              "      border-right-color: var(--fill-color);\n",
              "      border-top-color: var(--fill-color);\n",
              "    }\n",
              "    60% {\n",
              "      border-color: transparent;\n",
              "      border-right-color: var(--fill-color);\n",
              "    }\n",
              "    80% {\n",
              "      border-color: transparent;\n",
              "      border-right-color: var(--fill-color);\n",
              "      border-bottom-color: var(--fill-color);\n",
              "    }\n",
              "    90% {\n",
              "      border-color: transparent;\n",
              "      border-bottom-color: var(--fill-color);\n",
              "    }\n",
              "  }\n",
              "</style>\n",
              "\n",
              "  <script>\n",
              "    async function quickchart(key) {\n",
              "      const quickchartButtonEl =\n",
              "        document.querySelector('#' + key + ' button');\n",
              "      quickchartButtonEl.disabled = true;  // To prevent multiple clicks.\n",
              "      quickchartButtonEl.classList.add('colab-df-spinner');\n",
              "      try {\n",
              "        const charts = await google.colab.kernel.invokeFunction(\n",
              "            'suggestCharts', [key], {});\n",
              "      } catch (error) {\n",
              "        console.error('Error during call to suggestCharts:', error);\n",
              "      }\n",
              "      quickchartButtonEl.classList.remove('colab-df-spinner');\n",
              "      quickchartButtonEl.classList.add('colab-df-quickchart-complete');\n",
              "    }\n",
              "    (() => {\n",
              "      let quickchartButtonEl =\n",
              "        document.querySelector('#df-96ebb6a6-30ca-4455-b574-425f78f73e0b button');\n",
              "      quickchartButtonEl.style.display =\n",
              "        google.colab.kernel.accessAllowed ? 'block' : 'none';\n",
              "    })();\n",
              "  </script>\n",
              "</div>\n",
              "    </div>\n",
              "  </div>\n"
            ]
          },
          "metadata": {},
          "execution_count": 57
        }
      ]
    },
    {
      "cell_type": "code",
      "source": [
        "# A partir de los diferentes valores de cada variable categorica se crea una columna para cada valor que contienen solo ceros y unos\n",
        "datos_dummy_df = pd.get_dummies(clientes_servicios_df.drop(columns=['Conyuge','Dependientes','TelefonoFijo', 'PagoOnline','Churn'], axis = 1))"
      ],
      "metadata": {
        "id": "hlhoZOt6Gj9K"
      },
      "execution_count": 58,
      "outputs": []
    },
    {
      "cell_type": "code",
      "source": [
        "\n",
        "clientes_servicios_normalizados_df = pd.concat([datos_modificados_df,datos_dummy_df], axis = 1)\n",
        "clientes_servicios_normalizados_df"
      ],
      "metadata": {
        "colab": {
          "base_uri": "https://localhost:8080/",
          "height": 0
        },
        "id": "yd0Ky45MBH0i",
        "outputId": "1c312196-df49-439b-9095-5796b39bf5f2"
      },
      "execution_count": 59,
      "outputs": [
        {
          "output_type": "execute_result",
          "data": {
            "text/plain": [
              "      Conyuge  Dependientes  TelefonoFijo  PagoOnline  Churn  Mayor65Anos  \\\n",
              "0           1             0             0           1      0            0   \n",
              "1           0             0             1           0      0            0   \n",
              "2           0             0             1           1      1            0   \n",
              "3           0             0             0           0      0            0   \n",
              "4           0             0             1           1      1            0   \n",
              "...       ...           ...           ...         ...    ...          ...   \n",
              "7038        1             1             1           1      0            0   \n",
              "7039        1             1             1           1      0            0   \n",
              "7040        1             1             0           1      0            0   \n",
              "7041        1             0             1           1      1            1   \n",
              "7042        0             0             1           1      0            0   \n",
              "\n",
              "      MesesDeContrato  CuentaMensual  VariasLineasTelefonicas_No  \\\n",
              "0                   1          29.85                           0   \n",
              "1                  34          56.95                           1   \n",
              "2                   2          53.85                           1   \n",
              "3                  45          42.30                           0   \n",
              "4                   2          70.70                           1   \n",
              "...               ...            ...                         ...   \n",
              "7038               24          84.80                           0   \n",
              "7039               72         103.20                           0   \n",
              "7040               11          29.60                           0   \n",
              "7041                4          74.40                           0   \n",
              "7042               66         105.65                           1   \n",
              "\n",
              "      VariasLineasTelefonicas_Si  \\\n",
              "0                              0   \n",
              "1                              0   \n",
              "2                              0   \n",
              "3                              0   \n",
              "4                              0   \n",
              "...                          ...   \n",
              "7038                           1   \n",
              "7039                           1   \n",
              "7040                           0   \n",
              "7041                           1   \n",
              "7042                           0   \n",
              "\n",
              "      VariasLineasTelefonicas_SinServicioTelefonico  ServicioDeInternet_DSL  \\\n",
              "0                                                 1                       1   \n",
              "1                                                 0                       1   \n",
              "2                                                 0                       1   \n",
              "3                                                 1                       1   \n",
              "4                                                 0                       0   \n",
              "...                                             ...                     ...   \n",
              "7038                                              0                       1   \n",
              "7039                                              0                       0   \n",
              "7040                                              1                       1   \n",
              "7041                                              0                       0   \n",
              "7042                                              0                       0   \n",
              "\n",
              "      ServicioDeInternet_FibraOptica  ServicioDeInternet_No  \\\n",
              "0                                  0                      0   \n",
              "1                                  0                      0   \n",
              "2                                  0                      0   \n",
              "3                                  0                      0   \n",
              "4                                  1                      0   \n",
              "...                              ...                    ...   \n",
              "7038                               0                      0   \n",
              "7039                               1                      0   \n",
              "7040                               0                      0   \n",
              "7041                               1                      0   \n",
              "7042                               1                      0   \n",
              "\n",
              "      SeguridadOnline_No  SeguridadOnline_Si  \\\n",
              "0                      1                   0   \n",
              "1                      0                   1   \n",
              "2                      0                   1   \n",
              "3                      0                   1   \n",
              "4                      1                   0   \n",
              "...                  ...                 ...   \n",
              "7038                   0                   1   \n",
              "7039                   1                   0   \n",
              "7040                   0                   1   \n",
              "7041                   1                   0   \n",
              "7042                   0                   1   \n",
              "\n",
              "      SeguridadOnline_SinServicioDeInternet  BackupOnline_No  BackupOnline_Si  \\\n",
              "0                                         0                0                1   \n",
              "1                                         0                1                0   \n",
              "2                                         0                0                1   \n",
              "3                                         0                1                0   \n",
              "4                                         0                1                0   \n",
              "...                                     ...              ...              ...   \n",
              "7038                                      0                1                0   \n",
              "7039                                      0                0                1   \n",
              "7040                                      0                1                0   \n",
              "7041                                      0                1                0   \n",
              "7042                                      0                1                0   \n",
              "\n",
              "      BackupOnline_SinServicioDeInternet  SeguroEnDispositivo_No  \\\n",
              "0                                      0                       1   \n",
              "1                                      0                       0   \n",
              "2                                      0                       1   \n",
              "3                                      0                       0   \n",
              "4                                      0                       1   \n",
              "...                                  ...                     ...   \n",
              "7038                                   0                       0   \n",
              "7039                                   0                       0   \n",
              "7040                                   0                       1   \n",
              "7041                                   0                       1   \n",
              "7042                                   0                       0   \n",
              "\n",
              "      SeguroEnDispositivo_Si  SeguroEnDispositivo_SinServicioDeInternet  \\\n",
              "0                          0                                          0   \n",
              "1                          1                                          0   \n",
              "2                          0                                          0   \n",
              "3                          1                                          0   \n",
              "4                          0                                          0   \n",
              "...                      ...                                        ...   \n",
              "7038                       1                                          0   \n",
              "7039                       1                                          0   \n",
              "7040                       0                                          0   \n",
              "7041                       0                                          0   \n",
              "7042                       1                                          0   \n",
              "\n",
              "      SoporteTecnico_No  SoporteTecnico_Si  \\\n",
              "0                     1                  0   \n",
              "1                     1                  0   \n",
              "2                     1                  0   \n",
              "3                     0                  1   \n",
              "4                     1                  0   \n",
              "...                 ...                ...   \n",
              "7038                  0                  1   \n",
              "7039                  1                  0   \n",
              "7040                  1                  0   \n",
              "7041                  1                  0   \n",
              "7042                  0                  1   \n",
              "\n",
              "      SoporteTecnico_SinServicioDeInternet  TVaCable_No  TVaCable_Si  \\\n",
              "0                                        0            1            0   \n",
              "1                                        0            1            0   \n",
              "2                                        0            1            0   \n",
              "3                                        0            1            0   \n",
              "4                                        0            1            0   \n",
              "...                                    ...          ...          ...   \n",
              "7038                                     0            0            1   \n",
              "7039                                     0            0            1   \n",
              "7040                                     0            1            0   \n",
              "7041                                     0            1            0   \n",
              "7042                                     0            0            1   \n",
              "\n",
              "      TVaCable_SinServicioDeInternet  StreamingDePeliculas_No  \\\n",
              "0                                  0                        1   \n",
              "1                                  0                        1   \n",
              "2                                  0                        1   \n",
              "3                                  0                        1   \n",
              "4                                  0                        1   \n",
              "...                              ...                      ...   \n",
              "7038                               0                        0   \n",
              "7039                               0                        0   \n",
              "7040                               0                        1   \n",
              "7041                               0                        1   \n",
              "7042                               0                        0   \n",
              "\n",
              "      StreamingDePeliculas_Si  StreamingDePeliculas_SinServicioDeInternet  \\\n",
              "0                           0                                           0   \n",
              "1                           0                                           0   \n",
              "2                           0                                           0   \n",
              "3                           0                                           0   \n",
              "4                           0                                           0   \n",
              "...                       ...                                         ...   \n",
              "7038                        1                                           0   \n",
              "7039                        1                                           0   \n",
              "7040                        0                                           0   \n",
              "7041                        0                                           0   \n",
              "7042                        1                                           0   \n",
              "\n",
              "      TipoDeContrato_Anual  TipoDeContrato_Bienal  TipoDeContrato_Mensual  \\\n",
              "0                        0                      0                       1   \n",
              "1                        1                      0                       0   \n",
              "2                        0                      0                       1   \n",
              "3                        1                      0                       0   \n",
              "4                        0                      0                       1   \n",
              "...                    ...                    ...                     ...   \n",
              "7038                     1                      0                       0   \n",
              "7039                     1                      0                       0   \n",
              "7040                     0                      0                       1   \n",
              "7041                     0                      0                       1   \n",
              "7042                     0                      1                       0   \n",
              "\n",
              "      FormaDePago_ChequeDigital  FormaDePago_ChequePapel  \\\n",
              "0                             1                        0   \n",
              "1                             0                        1   \n",
              "2                             0                        1   \n",
              "3                             0                        0   \n",
              "4                             1                        0   \n",
              "...                         ...                      ...   \n",
              "7038                          0                        1   \n",
              "7039                          0                        0   \n",
              "7040                          1                        0   \n",
              "7041                          0                        1   \n",
              "7042                          0                        0   \n",
              "\n",
              "      FormaDePago_DebitoAutomatico  FormaDePago_TarjetaDeCredito  \n",
              "0                                0                             0  \n",
              "1                                0                             0  \n",
              "2                                0                             0  \n",
              "3                                1                             0  \n",
              "4                                0                             0  \n",
              "...                            ...                           ...  \n",
              "7038                             0                             0  \n",
              "7039                             0                             1  \n",
              "7040                             0                             0  \n",
              "7041                             0                             0  \n",
              "7042                             1                             0  \n",
              "\n",
              "[7043 rows x 39 columns]"
            ],
            "text/html": [
              "\n",
              "  <div id=\"df-59fa5d2d-eb22-4be6-8b6c-c5435dfbb638\" class=\"colab-df-container\">\n",
              "    <div>\n",
              "<style scoped>\n",
              "    .dataframe tbody tr th:only-of-type {\n",
              "        vertical-align: middle;\n",
              "    }\n",
              "\n",
              "    .dataframe tbody tr th {\n",
              "        vertical-align: top;\n",
              "    }\n",
              "\n",
              "    .dataframe thead th {\n",
              "        text-align: right;\n",
              "    }\n",
              "</style>\n",
              "<table border=\"1\" class=\"dataframe\">\n",
              "  <thead>\n",
              "    <tr style=\"text-align: right;\">\n",
              "      <th></th>\n",
              "      <th>Conyuge</th>\n",
              "      <th>Dependientes</th>\n",
              "      <th>TelefonoFijo</th>\n",
              "      <th>PagoOnline</th>\n",
              "      <th>Churn</th>\n",
              "      <th>Mayor65Anos</th>\n",
              "      <th>MesesDeContrato</th>\n",
              "      <th>CuentaMensual</th>\n",
              "      <th>VariasLineasTelefonicas_No</th>\n",
              "      <th>VariasLineasTelefonicas_Si</th>\n",
              "      <th>VariasLineasTelefonicas_SinServicioTelefonico</th>\n",
              "      <th>ServicioDeInternet_DSL</th>\n",
              "      <th>ServicioDeInternet_FibraOptica</th>\n",
              "      <th>ServicioDeInternet_No</th>\n",
              "      <th>SeguridadOnline_No</th>\n",
              "      <th>SeguridadOnline_Si</th>\n",
              "      <th>SeguridadOnline_SinServicioDeInternet</th>\n",
              "      <th>BackupOnline_No</th>\n",
              "      <th>BackupOnline_Si</th>\n",
              "      <th>BackupOnline_SinServicioDeInternet</th>\n",
              "      <th>SeguroEnDispositivo_No</th>\n",
              "      <th>SeguroEnDispositivo_Si</th>\n",
              "      <th>SeguroEnDispositivo_SinServicioDeInternet</th>\n",
              "      <th>SoporteTecnico_No</th>\n",
              "      <th>SoporteTecnico_Si</th>\n",
              "      <th>SoporteTecnico_SinServicioDeInternet</th>\n",
              "      <th>TVaCable_No</th>\n",
              "      <th>TVaCable_Si</th>\n",
              "      <th>TVaCable_SinServicioDeInternet</th>\n",
              "      <th>StreamingDePeliculas_No</th>\n",
              "      <th>StreamingDePeliculas_Si</th>\n",
              "      <th>StreamingDePeliculas_SinServicioDeInternet</th>\n",
              "      <th>TipoDeContrato_Anual</th>\n",
              "      <th>TipoDeContrato_Bienal</th>\n",
              "      <th>TipoDeContrato_Mensual</th>\n",
              "      <th>FormaDePago_ChequeDigital</th>\n",
              "      <th>FormaDePago_ChequePapel</th>\n",
              "      <th>FormaDePago_DebitoAutomatico</th>\n",
              "      <th>FormaDePago_TarjetaDeCredito</th>\n",
              "    </tr>\n",
              "  </thead>\n",
              "  <tbody>\n",
              "    <tr>\n",
              "      <th>0</th>\n",
              "      <td>1</td>\n",
              "      <td>0</td>\n",
              "      <td>0</td>\n",
              "      <td>1</td>\n",
              "      <td>0</td>\n",
              "      <td>0</td>\n",
              "      <td>1</td>\n",
              "      <td>29.85</td>\n",
              "      <td>0</td>\n",
              "      <td>0</td>\n",
              "      <td>1</td>\n",
              "      <td>1</td>\n",
              "      <td>0</td>\n",
              "      <td>0</td>\n",
              "      <td>1</td>\n",
              "      <td>0</td>\n",
              "      <td>0</td>\n",
              "      <td>0</td>\n",
              "      <td>1</td>\n",
              "      <td>0</td>\n",
              "      <td>1</td>\n",
              "      <td>0</td>\n",
              "      <td>0</td>\n",
              "      <td>1</td>\n",
              "      <td>0</td>\n",
              "      <td>0</td>\n",
              "      <td>1</td>\n",
              "      <td>0</td>\n",
              "      <td>0</td>\n",
              "      <td>1</td>\n",
              "      <td>0</td>\n",
              "      <td>0</td>\n",
              "      <td>0</td>\n",
              "      <td>0</td>\n",
              "      <td>1</td>\n",
              "      <td>1</td>\n",
              "      <td>0</td>\n",
              "      <td>0</td>\n",
              "      <td>0</td>\n",
              "    </tr>\n",
              "    <tr>\n",
              "      <th>1</th>\n",
              "      <td>0</td>\n",
              "      <td>0</td>\n",
              "      <td>1</td>\n",
              "      <td>0</td>\n",
              "      <td>0</td>\n",
              "      <td>0</td>\n",
              "      <td>34</td>\n",
              "      <td>56.95</td>\n",
              "      <td>1</td>\n",
              "      <td>0</td>\n",
              "      <td>0</td>\n",
              "      <td>1</td>\n",
              "      <td>0</td>\n",
              "      <td>0</td>\n",
              "      <td>0</td>\n",
              "      <td>1</td>\n",
              "      <td>0</td>\n",
              "      <td>1</td>\n",
              "      <td>0</td>\n",
              "      <td>0</td>\n",
              "      <td>0</td>\n",
              "      <td>1</td>\n",
              "      <td>0</td>\n",
              "      <td>1</td>\n",
              "      <td>0</td>\n",
              "      <td>0</td>\n",
              "      <td>1</td>\n",
              "      <td>0</td>\n",
              "      <td>0</td>\n",
              "      <td>1</td>\n",
              "      <td>0</td>\n",
              "      <td>0</td>\n",
              "      <td>1</td>\n",
              "      <td>0</td>\n",
              "      <td>0</td>\n",
              "      <td>0</td>\n",
              "      <td>1</td>\n",
              "      <td>0</td>\n",
              "      <td>0</td>\n",
              "    </tr>\n",
              "    <tr>\n",
              "      <th>2</th>\n",
              "      <td>0</td>\n",
              "      <td>0</td>\n",
              "      <td>1</td>\n",
              "      <td>1</td>\n",
              "      <td>1</td>\n",
              "      <td>0</td>\n",
              "      <td>2</td>\n",
              "      <td>53.85</td>\n",
              "      <td>1</td>\n",
              "      <td>0</td>\n",
              "      <td>0</td>\n",
              "      <td>1</td>\n",
              "      <td>0</td>\n",
              "      <td>0</td>\n",
              "      <td>0</td>\n",
              "      <td>1</td>\n",
              "      <td>0</td>\n",
              "      <td>0</td>\n",
              "      <td>1</td>\n",
              "      <td>0</td>\n",
              "      <td>1</td>\n",
              "      <td>0</td>\n",
              "      <td>0</td>\n",
              "      <td>1</td>\n",
              "      <td>0</td>\n",
              "      <td>0</td>\n",
              "      <td>1</td>\n",
              "      <td>0</td>\n",
              "      <td>0</td>\n",
              "      <td>1</td>\n",
              "      <td>0</td>\n",
              "      <td>0</td>\n",
              "      <td>0</td>\n",
              "      <td>0</td>\n",
              "      <td>1</td>\n",
              "      <td>0</td>\n",
              "      <td>1</td>\n",
              "      <td>0</td>\n",
              "      <td>0</td>\n",
              "    </tr>\n",
              "    <tr>\n",
              "      <th>3</th>\n",
              "      <td>0</td>\n",
              "      <td>0</td>\n",
              "      <td>0</td>\n",
              "      <td>0</td>\n",
              "      <td>0</td>\n",
              "      <td>0</td>\n",
              "      <td>45</td>\n",
              "      <td>42.30</td>\n",
              "      <td>0</td>\n",
              "      <td>0</td>\n",
              "      <td>1</td>\n",
              "      <td>1</td>\n",
              "      <td>0</td>\n",
              "      <td>0</td>\n",
              "      <td>0</td>\n",
              "      <td>1</td>\n",
              "      <td>0</td>\n",
              "      <td>1</td>\n",
              "      <td>0</td>\n",
              "      <td>0</td>\n",
              "      <td>0</td>\n",
              "      <td>1</td>\n",
              "      <td>0</td>\n",
              "      <td>0</td>\n",
              "      <td>1</td>\n",
              "      <td>0</td>\n",
              "      <td>1</td>\n",
              "      <td>0</td>\n",
              "      <td>0</td>\n",
              "      <td>1</td>\n",
              "      <td>0</td>\n",
              "      <td>0</td>\n",
              "      <td>1</td>\n",
              "      <td>0</td>\n",
              "      <td>0</td>\n",
              "      <td>0</td>\n",
              "      <td>0</td>\n",
              "      <td>1</td>\n",
              "      <td>0</td>\n",
              "    </tr>\n",
              "    <tr>\n",
              "      <th>4</th>\n",
              "      <td>0</td>\n",
              "      <td>0</td>\n",
              "      <td>1</td>\n",
              "      <td>1</td>\n",
              "      <td>1</td>\n",
              "      <td>0</td>\n",
              "      <td>2</td>\n",
              "      <td>70.70</td>\n",
              "      <td>1</td>\n",
              "      <td>0</td>\n",
              "      <td>0</td>\n",
              "      <td>0</td>\n",
              "      <td>1</td>\n",
              "      <td>0</td>\n",
              "      <td>1</td>\n",
              "      <td>0</td>\n",
              "      <td>0</td>\n",
              "      <td>1</td>\n",
              "      <td>0</td>\n",
              "      <td>0</td>\n",
              "      <td>1</td>\n",
              "      <td>0</td>\n",
              "      <td>0</td>\n",
              "      <td>1</td>\n",
              "      <td>0</td>\n",
              "      <td>0</td>\n",
              "      <td>1</td>\n",
              "      <td>0</td>\n",
              "      <td>0</td>\n",
              "      <td>1</td>\n",
              "      <td>0</td>\n",
              "      <td>0</td>\n",
              "      <td>0</td>\n",
              "      <td>0</td>\n",
              "      <td>1</td>\n",
              "      <td>1</td>\n",
              "      <td>0</td>\n",
              "      <td>0</td>\n",
              "      <td>0</td>\n",
              "    </tr>\n",
              "    <tr>\n",
              "      <th>...</th>\n",
              "      <td>...</td>\n",
              "      <td>...</td>\n",
              "      <td>...</td>\n",
              "      <td>...</td>\n",
              "      <td>...</td>\n",
              "      <td>...</td>\n",
              "      <td>...</td>\n",
              "      <td>...</td>\n",
              "      <td>...</td>\n",
              "      <td>...</td>\n",
              "      <td>...</td>\n",
              "      <td>...</td>\n",
              "      <td>...</td>\n",
              "      <td>...</td>\n",
              "      <td>...</td>\n",
              "      <td>...</td>\n",
              "      <td>...</td>\n",
              "      <td>...</td>\n",
              "      <td>...</td>\n",
              "      <td>...</td>\n",
              "      <td>...</td>\n",
              "      <td>...</td>\n",
              "      <td>...</td>\n",
              "      <td>...</td>\n",
              "      <td>...</td>\n",
              "      <td>...</td>\n",
              "      <td>...</td>\n",
              "      <td>...</td>\n",
              "      <td>...</td>\n",
              "      <td>...</td>\n",
              "      <td>...</td>\n",
              "      <td>...</td>\n",
              "      <td>...</td>\n",
              "      <td>...</td>\n",
              "      <td>...</td>\n",
              "      <td>...</td>\n",
              "      <td>...</td>\n",
              "      <td>...</td>\n",
              "      <td>...</td>\n",
              "    </tr>\n",
              "    <tr>\n",
              "      <th>7038</th>\n",
              "      <td>1</td>\n",
              "      <td>1</td>\n",
              "      <td>1</td>\n",
              "      <td>1</td>\n",
              "      <td>0</td>\n",
              "      <td>0</td>\n",
              "      <td>24</td>\n",
              "      <td>84.80</td>\n",
              "      <td>0</td>\n",
              "      <td>1</td>\n",
              "      <td>0</td>\n",
              "      <td>1</td>\n",
              "      <td>0</td>\n",
              "      <td>0</td>\n",
              "      <td>0</td>\n",
              "      <td>1</td>\n",
              "      <td>0</td>\n",
              "      <td>1</td>\n",
              "      <td>0</td>\n",
              "      <td>0</td>\n",
              "      <td>0</td>\n",
              "      <td>1</td>\n",
              "      <td>0</td>\n",
              "      <td>0</td>\n",
              "      <td>1</td>\n",
              "      <td>0</td>\n",
              "      <td>0</td>\n",
              "      <td>1</td>\n",
              "      <td>0</td>\n",
              "      <td>0</td>\n",
              "      <td>1</td>\n",
              "      <td>0</td>\n",
              "      <td>1</td>\n",
              "      <td>0</td>\n",
              "      <td>0</td>\n",
              "      <td>0</td>\n",
              "      <td>1</td>\n",
              "      <td>0</td>\n",
              "      <td>0</td>\n",
              "    </tr>\n",
              "    <tr>\n",
              "      <th>7039</th>\n",
              "      <td>1</td>\n",
              "      <td>1</td>\n",
              "      <td>1</td>\n",
              "      <td>1</td>\n",
              "      <td>0</td>\n",
              "      <td>0</td>\n",
              "      <td>72</td>\n",
              "      <td>103.20</td>\n",
              "      <td>0</td>\n",
              "      <td>1</td>\n",
              "      <td>0</td>\n",
              "      <td>0</td>\n",
              "      <td>1</td>\n",
              "      <td>0</td>\n",
              "      <td>1</td>\n",
              "      <td>0</td>\n",
              "      <td>0</td>\n",
              "      <td>0</td>\n",
              "      <td>1</td>\n",
              "      <td>0</td>\n",
              "      <td>0</td>\n",
              "      <td>1</td>\n",
              "      <td>0</td>\n",
              "      <td>1</td>\n",
              "      <td>0</td>\n",
              "      <td>0</td>\n",
              "      <td>0</td>\n",
              "      <td>1</td>\n",
              "      <td>0</td>\n",
              "      <td>0</td>\n",
              "      <td>1</td>\n",
              "      <td>0</td>\n",
              "      <td>1</td>\n",
              "      <td>0</td>\n",
              "      <td>0</td>\n",
              "      <td>0</td>\n",
              "      <td>0</td>\n",
              "      <td>0</td>\n",
              "      <td>1</td>\n",
              "    </tr>\n",
              "    <tr>\n",
              "      <th>7040</th>\n",
              "      <td>1</td>\n",
              "      <td>1</td>\n",
              "      <td>0</td>\n",
              "      <td>1</td>\n",
              "      <td>0</td>\n",
              "      <td>0</td>\n",
              "      <td>11</td>\n",
              "      <td>29.60</td>\n",
              "      <td>0</td>\n",
              "      <td>0</td>\n",
              "      <td>1</td>\n",
              "      <td>1</td>\n",
              "      <td>0</td>\n",
              "      <td>0</td>\n",
              "      <td>0</td>\n",
              "      <td>1</td>\n",
              "      <td>0</td>\n",
              "      <td>1</td>\n",
              "      <td>0</td>\n",
              "      <td>0</td>\n",
              "      <td>1</td>\n",
              "      <td>0</td>\n",
              "      <td>0</td>\n",
              "      <td>1</td>\n",
              "      <td>0</td>\n",
              "      <td>0</td>\n",
              "      <td>1</td>\n",
              "      <td>0</td>\n",
              "      <td>0</td>\n",
              "      <td>1</td>\n",
              "      <td>0</td>\n",
              "      <td>0</td>\n",
              "      <td>0</td>\n",
              "      <td>0</td>\n",
              "      <td>1</td>\n",
              "      <td>1</td>\n",
              "      <td>0</td>\n",
              "      <td>0</td>\n",
              "      <td>0</td>\n",
              "    </tr>\n",
              "    <tr>\n",
              "      <th>7041</th>\n",
              "      <td>1</td>\n",
              "      <td>0</td>\n",
              "      <td>1</td>\n",
              "      <td>1</td>\n",
              "      <td>1</td>\n",
              "      <td>1</td>\n",
              "      <td>4</td>\n",
              "      <td>74.40</td>\n",
              "      <td>0</td>\n",
              "      <td>1</td>\n",
              "      <td>0</td>\n",
              "      <td>0</td>\n",
              "      <td>1</td>\n",
              "      <td>0</td>\n",
              "      <td>1</td>\n",
              "      <td>0</td>\n",
              "      <td>0</td>\n",
              "      <td>1</td>\n",
              "      <td>0</td>\n",
              "      <td>0</td>\n",
              "      <td>1</td>\n",
              "      <td>0</td>\n",
              "      <td>0</td>\n",
              "      <td>1</td>\n",
              "      <td>0</td>\n",
              "      <td>0</td>\n",
              "      <td>1</td>\n",
              "      <td>0</td>\n",
              "      <td>0</td>\n",
              "      <td>1</td>\n",
              "      <td>0</td>\n",
              "      <td>0</td>\n",
              "      <td>0</td>\n",
              "      <td>0</td>\n",
              "      <td>1</td>\n",
              "      <td>0</td>\n",
              "      <td>1</td>\n",
              "      <td>0</td>\n",
              "      <td>0</td>\n",
              "    </tr>\n",
              "    <tr>\n",
              "      <th>7042</th>\n",
              "      <td>0</td>\n",
              "      <td>0</td>\n",
              "      <td>1</td>\n",
              "      <td>1</td>\n",
              "      <td>0</td>\n",
              "      <td>0</td>\n",
              "      <td>66</td>\n",
              "      <td>105.65</td>\n",
              "      <td>1</td>\n",
              "      <td>0</td>\n",
              "      <td>0</td>\n",
              "      <td>0</td>\n",
              "      <td>1</td>\n",
              "      <td>0</td>\n",
              "      <td>0</td>\n",
              "      <td>1</td>\n",
              "      <td>0</td>\n",
              "      <td>1</td>\n",
              "      <td>0</td>\n",
              "      <td>0</td>\n",
              "      <td>0</td>\n",
              "      <td>1</td>\n",
              "      <td>0</td>\n",
              "      <td>0</td>\n",
              "      <td>1</td>\n",
              "      <td>0</td>\n",
              "      <td>0</td>\n",
              "      <td>1</td>\n",
              "      <td>0</td>\n",
              "      <td>0</td>\n",
              "      <td>1</td>\n",
              "      <td>0</td>\n",
              "      <td>0</td>\n",
              "      <td>1</td>\n",
              "      <td>0</td>\n",
              "      <td>0</td>\n",
              "      <td>0</td>\n",
              "      <td>1</td>\n",
              "      <td>0</td>\n",
              "    </tr>\n",
              "  </tbody>\n",
              "</table>\n",
              "<p>7043 rows × 39 columns</p>\n",
              "</div>\n",
              "    <div class=\"colab-df-buttons\">\n",
              "\n",
              "  <div class=\"colab-df-container\">\n",
              "    <button class=\"colab-df-convert\" onclick=\"convertToInteractive('df-59fa5d2d-eb22-4be6-8b6c-c5435dfbb638')\"\n",
              "            title=\"Convert this dataframe to an interactive table.\"\n",
              "            style=\"display:none;\">\n",
              "\n",
              "  <svg xmlns=\"http://www.w3.org/2000/svg\" height=\"24px\" viewBox=\"0 -960 960 960\">\n",
              "    <path d=\"M120-120v-720h720v720H120Zm60-500h600v-160H180v160Zm220 220h160v-160H400v160Zm0 220h160v-160H400v160ZM180-400h160v-160H180v160Zm440 0h160v-160H620v160ZM180-180h160v-160H180v160Zm440 0h160v-160H620v160Z\"/>\n",
              "  </svg>\n",
              "    </button>\n",
              "\n",
              "  <style>\n",
              "    .colab-df-container {\n",
              "      display:flex;\n",
              "      gap: 12px;\n",
              "    }\n",
              "\n",
              "    .colab-df-convert {\n",
              "      background-color: #E8F0FE;\n",
              "      border: none;\n",
              "      border-radius: 50%;\n",
              "      cursor: pointer;\n",
              "      display: none;\n",
              "      fill: #1967D2;\n",
              "      height: 32px;\n",
              "      padding: 0 0 0 0;\n",
              "      width: 32px;\n",
              "    }\n",
              "\n",
              "    .colab-df-convert:hover {\n",
              "      background-color: #E2EBFA;\n",
              "      box-shadow: 0px 1px 2px rgba(60, 64, 67, 0.3), 0px 1px 3px 1px rgba(60, 64, 67, 0.15);\n",
              "      fill: #174EA6;\n",
              "    }\n",
              "\n",
              "    .colab-df-buttons div {\n",
              "      margin-bottom: 4px;\n",
              "    }\n",
              "\n",
              "    [theme=dark] .colab-df-convert {\n",
              "      background-color: #3B4455;\n",
              "      fill: #D2E3FC;\n",
              "    }\n",
              "\n",
              "    [theme=dark] .colab-df-convert:hover {\n",
              "      background-color: #434B5C;\n",
              "      box-shadow: 0px 1px 3px 1px rgba(0, 0, 0, 0.15);\n",
              "      filter: drop-shadow(0px 1px 2px rgba(0, 0, 0, 0.3));\n",
              "      fill: #FFFFFF;\n",
              "    }\n",
              "  </style>\n",
              "\n",
              "    <script>\n",
              "      const buttonEl =\n",
              "        document.querySelector('#df-59fa5d2d-eb22-4be6-8b6c-c5435dfbb638 button.colab-df-convert');\n",
              "      buttonEl.style.display =\n",
              "        google.colab.kernel.accessAllowed ? 'block' : 'none';\n",
              "\n",
              "      async function convertToInteractive(key) {\n",
              "        const element = document.querySelector('#df-59fa5d2d-eb22-4be6-8b6c-c5435dfbb638');\n",
              "        const dataTable =\n",
              "          await google.colab.kernel.invokeFunction('convertToInteractive',\n",
              "                                                    [key], {});\n",
              "        if (!dataTable) return;\n",
              "\n",
              "        const docLinkHtml = 'Like what you see? Visit the ' +\n",
              "          '<a target=\"_blank\" href=https://colab.research.google.com/notebooks/data_table.ipynb>data table notebook</a>'\n",
              "          + ' to learn more about interactive tables.';\n",
              "        element.innerHTML = '';\n",
              "        dataTable['output_type'] = 'display_data';\n",
              "        await google.colab.output.renderOutput(dataTable, element);\n",
              "        const docLink = document.createElement('div');\n",
              "        docLink.innerHTML = docLinkHtml;\n",
              "        element.appendChild(docLink);\n",
              "      }\n",
              "    </script>\n",
              "  </div>\n",
              "\n",
              "\n",
              "<div id=\"df-570d1c3a-ef56-4da0-a959-a6c111dad4cc\">\n",
              "  <button class=\"colab-df-quickchart\" onclick=\"quickchart('df-570d1c3a-ef56-4da0-a959-a6c111dad4cc')\"\n",
              "            title=\"Suggest charts\"\n",
              "            style=\"display:none;\">\n",
              "\n",
              "<svg xmlns=\"http://www.w3.org/2000/svg\" height=\"24px\"viewBox=\"0 0 24 24\"\n",
              "     width=\"24px\">\n",
              "    <g>\n",
              "        <path d=\"M19 3H5c-1.1 0-2 .9-2 2v14c0 1.1.9 2 2 2h14c1.1 0 2-.9 2-2V5c0-1.1-.9-2-2-2zM9 17H7v-7h2v7zm4 0h-2V7h2v10zm4 0h-2v-4h2v4z\"/>\n",
              "    </g>\n",
              "</svg>\n",
              "  </button>\n",
              "\n",
              "<style>\n",
              "  .colab-df-quickchart {\n",
              "      --bg-color: #E8F0FE;\n",
              "      --fill-color: #1967D2;\n",
              "      --hover-bg-color: #E2EBFA;\n",
              "      --hover-fill-color: #174EA6;\n",
              "      --disabled-fill-color: #AAA;\n",
              "      --disabled-bg-color: #DDD;\n",
              "  }\n",
              "\n",
              "  [theme=dark] .colab-df-quickchart {\n",
              "      --bg-color: #3B4455;\n",
              "      --fill-color: #D2E3FC;\n",
              "      --hover-bg-color: #434B5C;\n",
              "      --hover-fill-color: #FFFFFF;\n",
              "      --disabled-bg-color: #3B4455;\n",
              "      --disabled-fill-color: #666;\n",
              "  }\n",
              "\n",
              "  .colab-df-quickchart {\n",
              "    background-color: var(--bg-color);\n",
              "    border: none;\n",
              "    border-radius: 50%;\n",
              "    cursor: pointer;\n",
              "    display: none;\n",
              "    fill: var(--fill-color);\n",
              "    height: 32px;\n",
              "    padding: 0;\n",
              "    width: 32px;\n",
              "  }\n",
              "\n",
              "  .colab-df-quickchart:hover {\n",
              "    background-color: var(--hover-bg-color);\n",
              "    box-shadow: 0 1px 2px rgba(60, 64, 67, 0.3), 0 1px 3px 1px rgba(60, 64, 67, 0.15);\n",
              "    fill: var(--button-hover-fill-color);\n",
              "  }\n",
              "\n",
              "  .colab-df-quickchart-complete:disabled,\n",
              "  .colab-df-quickchart-complete:disabled:hover {\n",
              "    background-color: var(--disabled-bg-color);\n",
              "    fill: var(--disabled-fill-color);\n",
              "    box-shadow: none;\n",
              "  }\n",
              "\n",
              "  .colab-df-spinner {\n",
              "    border: 2px solid var(--fill-color);\n",
              "    border-color: transparent;\n",
              "    border-bottom-color: var(--fill-color);\n",
              "    animation:\n",
              "      spin 1s steps(1) infinite;\n",
              "  }\n",
              "\n",
              "  @keyframes spin {\n",
              "    0% {\n",
              "      border-color: transparent;\n",
              "      border-bottom-color: var(--fill-color);\n",
              "      border-left-color: var(--fill-color);\n",
              "    }\n",
              "    20% {\n",
              "      border-color: transparent;\n",
              "      border-left-color: var(--fill-color);\n",
              "      border-top-color: var(--fill-color);\n",
              "    }\n",
              "    30% {\n",
              "      border-color: transparent;\n",
              "      border-left-color: var(--fill-color);\n",
              "      border-top-color: var(--fill-color);\n",
              "      border-right-color: var(--fill-color);\n",
              "    }\n",
              "    40% {\n",
              "      border-color: transparent;\n",
              "      border-right-color: var(--fill-color);\n",
              "      border-top-color: var(--fill-color);\n",
              "    }\n",
              "    60% {\n",
              "      border-color: transparent;\n",
              "      border-right-color: var(--fill-color);\n",
              "    }\n",
              "    80% {\n",
              "      border-color: transparent;\n",
              "      border-right-color: var(--fill-color);\n",
              "      border-bottom-color: var(--fill-color);\n",
              "    }\n",
              "    90% {\n",
              "      border-color: transparent;\n",
              "      border-bottom-color: var(--fill-color);\n",
              "    }\n",
              "  }\n",
              "</style>\n",
              "\n",
              "  <script>\n",
              "    async function quickchart(key) {\n",
              "      const quickchartButtonEl =\n",
              "        document.querySelector('#' + key + ' button');\n",
              "      quickchartButtonEl.disabled = true;  // To prevent multiple clicks.\n",
              "      quickchartButtonEl.classList.add('colab-df-spinner');\n",
              "      try {\n",
              "        const charts = await google.colab.kernel.invokeFunction(\n",
              "            'suggestCharts', [key], {});\n",
              "      } catch (error) {\n",
              "        console.error('Error during call to suggestCharts:', error);\n",
              "      }\n",
              "      quickchartButtonEl.classList.remove('colab-df-spinner');\n",
              "      quickchartButtonEl.classList.add('colab-df-quickchart-complete');\n",
              "    }\n",
              "    (() => {\n",
              "      let quickchartButtonEl =\n",
              "        document.querySelector('#df-570d1c3a-ef56-4da0-a959-a6c111dad4cc button');\n",
              "      quickchartButtonEl.style.display =\n",
              "        google.colab.kernel.accessAllowed ? 'block' : 'none';\n",
              "    })();\n",
              "  </script>\n",
              "</div>\n",
              "    </div>\n",
              "  </div>\n"
            ]
          },
          "metadata": {},
          "execution_count": 59
        }
      ]
    },
    {
      "cell_type": "markdown",
      "source": [
        "### 1.5 Definición Formal"
      ],
      "metadata": {
        "id": "k9eqcKpTIdWH"
      }
    },
    {
      "cell_type": "markdown",
      "source": [
        "Información para la clasificación:\n",
        "\n",
        "$X$ = inputs (datos de entrada)\n",
        "\n",
        "$y$ = outputs (datos de saída)"
      ],
      "metadata": {
        "id": "t75SWNigZ8SJ"
      }
    },
    {
      "cell_type": "code",
      "source": [
        "pd.set_option('display.max_columns',39)"
      ],
      "metadata": {
        "id": "S0j_09KFGl3H"
      },
      "execution_count": 60,
      "outputs": []
    },
    {
      "cell_type": "code",
      "source": [
        "clientes_servicios_normalizados_df.head()"
      ],
      "metadata": {
        "id": "9f17JhBsGl5s",
        "colab": {
          "base_uri": "https://localhost:8080/",
          "height": 0
        },
        "outputId": "ca78e372-ffb7-47f1-a87d-b13af4c3d9d3"
      },
      "execution_count": 61,
      "outputs": [
        {
          "output_type": "execute_result",
          "data": {
            "text/plain": [
              "   Conyuge  Dependientes  TelefonoFijo  PagoOnline  Churn  Mayor65Anos  \\\n",
              "0        1             0             0           1      0            0   \n",
              "1        0             0             1           0      0            0   \n",
              "2        0             0             1           1      1            0   \n",
              "3        0             0             0           0      0            0   \n",
              "4        0             0             1           1      1            0   \n",
              "\n",
              "   MesesDeContrato  CuentaMensual  VariasLineasTelefonicas_No  \\\n",
              "0                1          29.85                           0   \n",
              "1               34          56.95                           1   \n",
              "2                2          53.85                           1   \n",
              "3               45          42.30                           0   \n",
              "4                2          70.70                           1   \n",
              "\n",
              "   VariasLineasTelefonicas_Si  VariasLineasTelefonicas_SinServicioTelefonico  \\\n",
              "0                           0                                              1   \n",
              "1                           0                                              0   \n",
              "2                           0                                              0   \n",
              "3                           0                                              1   \n",
              "4                           0                                              0   \n",
              "\n",
              "   ServicioDeInternet_DSL  ServicioDeInternet_FibraOptica  \\\n",
              "0                       1                               0   \n",
              "1                       1                               0   \n",
              "2                       1                               0   \n",
              "3                       1                               0   \n",
              "4                       0                               1   \n",
              "\n",
              "   ServicioDeInternet_No  SeguridadOnline_No  SeguridadOnline_Si  \\\n",
              "0                      0                   1                   0   \n",
              "1                      0                   0                   1   \n",
              "2                      0                   0                   1   \n",
              "3                      0                   0                   1   \n",
              "4                      0                   1                   0   \n",
              "\n",
              "   SeguridadOnline_SinServicioDeInternet  BackupOnline_No  BackupOnline_Si  \\\n",
              "0                                      0                0                1   \n",
              "1                                      0                1                0   \n",
              "2                                      0                0                1   \n",
              "3                                      0                1                0   \n",
              "4                                      0                1                0   \n",
              "\n",
              "   BackupOnline_SinServicioDeInternet  SeguroEnDispositivo_No  \\\n",
              "0                                   0                       1   \n",
              "1                                   0                       0   \n",
              "2                                   0                       1   \n",
              "3                                   0                       0   \n",
              "4                                   0                       1   \n",
              "\n",
              "   SeguroEnDispositivo_Si  SeguroEnDispositivo_SinServicioDeInternet  \\\n",
              "0                       0                                          0   \n",
              "1                       1                                          0   \n",
              "2                       0                                          0   \n",
              "3                       1                                          0   \n",
              "4                       0                                          0   \n",
              "\n",
              "   SoporteTecnico_No  SoporteTecnico_Si  SoporteTecnico_SinServicioDeInternet  \\\n",
              "0                  1                  0                                     0   \n",
              "1                  1                  0                                     0   \n",
              "2                  1                  0                                     0   \n",
              "3                  0                  1                                     0   \n",
              "4                  1                  0                                     0   \n",
              "\n",
              "   TVaCable_No  TVaCable_Si  TVaCable_SinServicioDeInternet  \\\n",
              "0            1            0                               0   \n",
              "1            1            0                               0   \n",
              "2            1            0                               0   \n",
              "3            1            0                               0   \n",
              "4            1            0                               0   \n",
              "\n",
              "   StreamingDePeliculas_No  StreamingDePeliculas_Si  \\\n",
              "0                        1                        0   \n",
              "1                        1                        0   \n",
              "2                        1                        0   \n",
              "3                        1                        0   \n",
              "4                        1                        0   \n",
              "\n",
              "   StreamingDePeliculas_SinServicioDeInternet  TipoDeContrato_Anual  \\\n",
              "0                                           0                     0   \n",
              "1                                           0                     1   \n",
              "2                                           0                     0   \n",
              "3                                           0                     1   \n",
              "4                                           0                     0   \n",
              "\n",
              "   TipoDeContrato_Bienal  TipoDeContrato_Mensual  FormaDePago_ChequeDigital  \\\n",
              "0                      0                       1                          1   \n",
              "1                      0                       0                          0   \n",
              "2                      0                       1                          0   \n",
              "3                      0                       0                          0   \n",
              "4                      0                       1                          1   \n",
              "\n",
              "   FormaDePago_ChequePapel  FormaDePago_DebitoAutomatico  \\\n",
              "0                        0                             0   \n",
              "1                        1                             0   \n",
              "2                        1                             0   \n",
              "3                        0                             1   \n",
              "4                        0                             0   \n",
              "\n",
              "   FormaDePago_TarjetaDeCredito  \n",
              "0                             0  \n",
              "1                             0  \n",
              "2                             0  \n",
              "3                             0  \n",
              "4                             0  "
            ],
            "text/html": [
              "\n",
              "  <div id=\"df-6438fc31-312f-4d43-a815-fc699f5f44bc\" class=\"colab-df-container\">\n",
              "    <div>\n",
              "<style scoped>\n",
              "    .dataframe tbody tr th:only-of-type {\n",
              "        vertical-align: middle;\n",
              "    }\n",
              "\n",
              "    .dataframe tbody tr th {\n",
              "        vertical-align: top;\n",
              "    }\n",
              "\n",
              "    .dataframe thead th {\n",
              "        text-align: right;\n",
              "    }\n",
              "</style>\n",
              "<table border=\"1\" class=\"dataframe\">\n",
              "  <thead>\n",
              "    <tr style=\"text-align: right;\">\n",
              "      <th></th>\n",
              "      <th>Conyuge</th>\n",
              "      <th>Dependientes</th>\n",
              "      <th>TelefonoFijo</th>\n",
              "      <th>PagoOnline</th>\n",
              "      <th>Churn</th>\n",
              "      <th>Mayor65Anos</th>\n",
              "      <th>MesesDeContrato</th>\n",
              "      <th>CuentaMensual</th>\n",
              "      <th>VariasLineasTelefonicas_No</th>\n",
              "      <th>VariasLineasTelefonicas_Si</th>\n",
              "      <th>VariasLineasTelefonicas_SinServicioTelefonico</th>\n",
              "      <th>ServicioDeInternet_DSL</th>\n",
              "      <th>ServicioDeInternet_FibraOptica</th>\n",
              "      <th>ServicioDeInternet_No</th>\n",
              "      <th>SeguridadOnline_No</th>\n",
              "      <th>SeguridadOnline_Si</th>\n",
              "      <th>SeguridadOnline_SinServicioDeInternet</th>\n",
              "      <th>BackupOnline_No</th>\n",
              "      <th>BackupOnline_Si</th>\n",
              "      <th>BackupOnline_SinServicioDeInternet</th>\n",
              "      <th>SeguroEnDispositivo_No</th>\n",
              "      <th>SeguroEnDispositivo_Si</th>\n",
              "      <th>SeguroEnDispositivo_SinServicioDeInternet</th>\n",
              "      <th>SoporteTecnico_No</th>\n",
              "      <th>SoporteTecnico_Si</th>\n",
              "      <th>SoporteTecnico_SinServicioDeInternet</th>\n",
              "      <th>TVaCable_No</th>\n",
              "      <th>TVaCable_Si</th>\n",
              "      <th>TVaCable_SinServicioDeInternet</th>\n",
              "      <th>StreamingDePeliculas_No</th>\n",
              "      <th>StreamingDePeliculas_Si</th>\n",
              "      <th>StreamingDePeliculas_SinServicioDeInternet</th>\n",
              "      <th>TipoDeContrato_Anual</th>\n",
              "      <th>TipoDeContrato_Bienal</th>\n",
              "      <th>TipoDeContrato_Mensual</th>\n",
              "      <th>FormaDePago_ChequeDigital</th>\n",
              "      <th>FormaDePago_ChequePapel</th>\n",
              "      <th>FormaDePago_DebitoAutomatico</th>\n",
              "      <th>FormaDePago_TarjetaDeCredito</th>\n",
              "    </tr>\n",
              "  </thead>\n",
              "  <tbody>\n",
              "    <tr>\n",
              "      <th>0</th>\n",
              "      <td>1</td>\n",
              "      <td>0</td>\n",
              "      <td>0</td>\n",
              "      <td>1</td>\n",
              "      <td>0</td>\n",
              "      <td>0</td>\n",
              "      <td>1</td>\n",
              "      <td>29.85</td>\n",
              "      <td>0</td>\n",
              "      <td>0</td>\n",
              "      <td>1</td>\n",
              "      <td>1</td>\n",
              "      <td>0</td>\n",
              "      <td>0</td>\n",
              "      <td>1</td>\n",
              "      <td>0</td>\n",
              "      <td>0</td>\n",
              "      <td>0</td>\n",
              "      <td>1</td>\n",
              "      <td>0</td>\n",
              "      <td>1</td>\n",
              "      <td>0</td>\n",
              "      <td>0</td>\n",
              "      <td>1</td>\n",
              "      <td>0</td>\n",
              "      <td>0</td>\n",
              "      <td>1</td>\n",
              "      <td>0</td>\n",
              "      <td>0</td>\n",
              "      <td>1</td>\n",
              "      <td>0</td>\n",
              "      <td>0</td>\n",
              "      <td>0</td>\n",
              "      <td>0</td>\n",
              "      <td>1</td>\n",
              "      <td>1</td>\n",
              "      <td>0</td>\n",
              "      <td>0</td>\n",
              "      <td>0</td>\n",
              "    </tr>\n",
              "    <tr>\n",
              "      <th>1</th>\n",
              "      <td>0</td>\n",
              "      <td>0</td>\n",
              "      <td>1</td>\n",
              "      <td>0</td>\n",
              "      <td>0</td>\n",
              "      <td>0</td>\n",
              "      <td>34</td>\n",
              "      <td>56.95</td>\n",
              "      <td>1</td>\n",
              "      <td>0</td>\n",
              "      <td>0</td>\n",
              "      <td>1</td>\n",
              "      <td>0</td>\n",
              "      <td>0</td>\n",
              "      <td>0</td>\n",
              "      <td>1</td>\n",
              "      <td>0</td>\n",
              "      <td>1</td>\n",
              "      <td>0</td>\n",
              "      <td>0</td>\n",
              "      <td>0</td>\n",
              "      <td>1</td>\n",
              "      <td>0</td>\n",
              "      <td>1</td>\n",
              "      <td>0</td>\n",
              "      <td>0</td>\n",
              "      <td>1</td>\n",
              "      <td>0</td>\n",
              "      <td>0</td>\n",
              "      <td>1</td>\n",
              "      <td>0</td>\n",
              "      <td>0</td>\n",
              "      <td>1</td>\n",
              "      <td>0</td>\n",
              "      <td>0</td>\n",
              "      <td>0</td>\n",
              "      <td>1</td>\n",
              "      <td>0</td>\n",
              "      <td>0</td>\n",
              "    </tr>\n",
              "    <tr>\n",
              "      <th>2</th>\n",
              "      <td>0</td>\n",
              "      <td>0</td>\n",
              "      <td>1</td>\n",
              "      <td>1</td>\n",
              "      <td>1</td>\n",
              "      <td>0</td>\n",
              "      <td>2</td>\n",
              "      <td>53.85</td>\n",
              "      <td>1</td>\n",
              "      <td>0</td>\n",
              "      <td>0</td>\n",
              "      <td>1</td>\n",
              "      <td>0</td>\n",
              "      <td>0</td>\n",
              "      <td>0</td>\n",
              "      <td>1</td>\n",
              "      <td>0</td>\n",
              "      <td>0</td>\n",
              "      <td>1</td>\n",
              "      <td>0</td>\n",
              "      <td>1</td>\n",
              "      <td>0</td>\n",
              "      <td>0</td>\n",
              "      <td>1</td>\n",
              "      <td>0</td>\n",
              "      <td>0</td>\n",
              "      <td>1</td>\n",
              "      <td>0</td>\n",
              "      <td>0</td>\n",
              "      <td>1</td>\n",
              "      <td>0</td>\n",
              "      <td>0</td>\n",
              "      <td>0</td>\n",
              "      <td>0</td>\n",
              "      <td>1</td>\n",
              "      <td>0</td>\n",
              "      <td>1</td>\n",
              "      <td>0</td>\n",
              "      <td>0</td>\n",
              "    </tr>\n",
              "    <tr>\n",
              "      <th>3</th>\n",
              "      <td>0</td>\n",
              "      <td>0</td>\n",
              "      <td>0</td>\n",
              "      <td>0</td>\n",
              "      <td>0</td>\n",
              "      <td>0</td>\n",
              "      <td>45</td>\n",
              "      <td>42.30</td>\n",
              "      <td>0</td>\n",
              "      <td>0</td>\n",
              "      <td>1</td>\n",
              "      <td>1</td>\n",
              "      <td>0</td>\n",
              "      <td>0</td>\n",
              "      <td>0</td>\n",
              "      <td>1</td>\n",
              "      <td>0</td>\n",
              "      <td>1</td>\n",
              "      <td>0</td>\n",
              "      <td>0</td>\n",
              "      <td>0</td>\n",
              "      <td>1</td>\n",
              "      <td>0</td>\n",
              "      <td>0</td>\n",
              "      <td>1</td>\n",
              "      <td>0</td>\n",
              "      <td>1</td>\n",
              "      <td>0</td>\n",
              "      <td>0</td>\n",
              "      <td>1</td>\n",
              "      <td>0</td>\n",
              "      <td>0</td>\n",
              "      <td>1</td>\n",
              "      <td>0</td>\n",
              "      <td>0</td>\n",
              "      <td>0</td>\n",
              "      <td>0</td>\n",
              "      <td>1</td>\n",
              "      <td>0</td>\n",
              "    </tr>\n",
              "    <tr>\n",
              "      <th>4</th>\n",
              "      <td>0</td>\n",
              "      <td>0</td>\n",
              "      <td>1</td>\n",
              "      <td>1</td>\n",
              "      <td>1</td>\n",
              "      <td>0</td>\n",
              "      <td>2</td>\n",
              "      <td>70.70</td>\n",
              "      <td>1</td>\n",
              "      <td>0</td>\n",
              "      <td>0</td>\n",
              "      <td>0</td>\n",
              "      <td>1</td>\n",
              "      <td>0</td>\n",
              "      <td>1</td>\n",
              "      <td>0</td>\n",
              "      <td>0</td>\n",
              "      <td>1</td>\n",
              "      <td>0</td>\n",
              "      <td>0</td>\n",
              "      <td>1</td>\n",
              "      <td>0</td>\n",
              "      <td>0</td>\n",
              "      <td>1</td>\n",
              "      <td>0</td>\n",
              "      <td>0</td>\n",
              "      <td>1</td>\n",
              "      <td>0</td>\n",
              "      <td>0</td>\n",
              "      <td>1</td>\n",
              "      <td>0</td>\n",
              "      <td>0</td>\n",
              "      <td>0</td>\n",
              "      <td>0</td>\n",
              "      <td>1</td>\n",
              "      <td>1</td>\n",
              "      <td>0</td>\n",
              "      <td>0</td>\n",
              "      <td>0</td>\n",
              "    </tr>\n",
              "  </tbody>\n",
              "</table>\n",
              "</div>\n",
              "    <div class=\"colab-df-buttons\">\n",
              "\n",
              "  <div class=\"colab-df-container\">\n",
              "    <button class=\"colab-df-convert\" onclick=\"convertToInteractive('df-6438fc31-312f-4d43-a815-fc699f5f44bc')\"\n",
              "            title=\"Convert this dataframe to an interactive table.\"\n",
              "            style=\"display:none;\">\n",
              "\n",
              "  <svg xmlns=\"http://www.w3.org/2000/svg\" height=\"24px\" viewBox=\"0 -960 960 960\">\n",
              "    <path d=\"M120-120v-720h720v720H120Zm60-500h600v-160H180v160Zm220 220h160v-160H400v160Zm0 220h160v-160H400v160ZM180-400h160v-160H180v160Zm440 0h160v-160H620v160ZM180-180h160v-160H180v160Zm440 0h160v-160H620v160Z\"/>\n",
              "  </svg>\n",
              "    </button>\n",
              "\n",
              "  <style>\n",
              "    .colab-df-container {\n",
              "      display:flex;\n",
              "      gap: 12px;\n",
              "    }\n",
              "\n",
              "    .colab-df-convert {\n",
              "      background-color: #E8F0FE;\n",
              "      border: none;\n",
              "      border-radius: 50%;\n",
              "      cursor: pointer;\n",
              "      display: none;\n",
              "      fill: #1967D2;\n",
              "      height: 32px;\n",
              "      padding: 0 0 0 0;\n",
              "      width: 32px;\n",
              "    }\n",
              "\n",
              "    .colab-df-convert:hover {\n",
              "      background-color: #E2EBFA;\n",
              "      box-shadow: 0px 1px 2px rgba(60, 64, 67, 0.3), 0px 1px 3px 1px rgba(60, 64, 67, 0.15);\n",
              "      fill: #174EA6;\n",
              "    }\n",
              "\n",
              "    .colab-df-buttons div {\n",
              "      margin-bottom: 4px;\n",
              "    }\n",
              "\n",
              "    [theme=dark] .colab-df-convert {\n",
              "      background-color: #3B4455;\n",
              "      fill: #D2E3FC;\n",
              "    }\n",
              "\n",
              "    [theme=dark] .colab-df-convert:hover {\n",
              "      background-color: #434B5C;\n",
              "      box-shadow: 0px 1px 3px 1px rgba(0, 0, 0, 0.15);\n",
              "      filter: drop-shadow(0px 1px 2px rgba(0, 0, 0, 0.3));\n",
              "      fill: #FFFFFF;\n",
              "    }\n",
              "  </style>\n",
              "\n",
              "    <script>\n",
              "      const buttonEl =\n",
              "        document.querySelector('#df-6438fc31-312f-4d43-a815-fc699f5f44bc button.colab-df-convert');\n",
              "      buttonEl.style.display =\n",
              "        google.colab.kernel.accessAllowed ? 'block' : 'none';\n",
              "\n",
              "      async function convertToInteractive(key) {\n",
              "        const element = document.querySelector('#df-6438fc31-312f-4d43-a815-fc699f5f44bc');\n",
              "        const dataTable =\n",
              "          await google.colab.kernel.invokeFunction('convertToInteractive',\n",
              "                                                    [key], {});\n",
              "        if (!dataTable) return;\n",
              "\n",
              "        const docLinkHtml = 'Like what you see? Visit the ' +\n",
              "          '<a target=\"_blank\" href=https://colab.research.google.com/notebooks/data_table.ipynb>data table notebook</a>'\n",
              "          + ' to learn more about interactive tables.';\n",
              "        element.innerHTML = '';\n",
              "        dataTable['output_type'] = 'display_data';\n",
              "        await google.colab.output.renderOutput(dataTable, element);\n",
              "        const docLink = document.createElement('div');\n",
              "        docLink.innerHTML = docLinkHtml;\n",
              "        element.appendChild(docLink);\n",
              "      }\n",
              "    </script>\n",
              "  </div>\n",
              "\n",
              "\n",
              "<div id=\"df-384e0956-fc49-4b1f-8c81-a7e4a82efd54\">\n",
              "  <button class=\"colab-df-quickchart\" onclick=\"quickchart('df-384e0956-fc49-4b1f-8c81-a7e4a82efd54')\"\n",
              "            title=\"Suggest charts\"\n",
              "            style=\"display:none;\">\n",
              "\n",
              "<svg xmlns=\"http://www.w3.org/2000/svg\" height=\"24px\"viewBox=\"0 0 24 24\"\n",
              "     width=\"24px\">\n",
              "    <g>\n",
              "        <path d=\"M19 3H5c-1.1 0-2 .9-2 2v14c0 1.1.9 2 2 2h14c1.1 0 2-.9 2-2V5c0-1.1-.9-2-2-2zM9 17H7v-7h2v7zm4 0h-2V7h2v10zm4 0h-2v-4h2v4z\"/>\n",
              "    </g>\n",
              "</svg>\n",
              "  </button>\n",
              "\n",
              "<style>\n",
              "  .colab-df-quickchart {\n",
              "      --bg-color: #E8F0FE;\n",
              "      --fill-color: #1967D2;\n",
              "      --hover-bg-color: #E2EBFA;\n",
              "      --hover-fill-color: #174EA6;\n",
              "      --disabled-fill-color: #AAA;\n",
              "      --disabled-bg-color: #DDD;\n",
              "  }\n",
              "\n",
              "  [theme=dark] .colab-df-quickchart {\n",
              "      --bg-color: #3B4455;\n",
              "      --fill-color: #D2E3FC;\n",
              "      --hover-bg-color: #434B5C;\n",
              "      --hover-fill-color: #FFFFFF;\n",
              "      --disabled-bg-color: #3B4455;\n",
              "      --disabled-fill-color: #666;\n",
              "  }\n",
              "\n",
              "  .colab-df-quickchart {\n",
              "    background-color: var(--bg-color);\n",
              "    border: none;\n",
              "    border-radius: 50%;\n",
              "    cursor: pointer;\n",
              "    display: none;\n",
              "    fill: var(--fill-color);\n",
              "    height: 32px;\n",
              "    padding: 0;\n",
              "    width: 32px;\n",
              "  }\n",
              "\n",
              "  .colab-df-quickchart:hover {\n",
              "    background-color: var(--hover-bg-color);\n",
              "    box-shadow: 0 1px 2px rgba(60, 64, 67, 0.3), 0 1px 3px 1px rgba(60, 64, 67, 0.15);\n",
              "    fill: var(--button-hover-fill-color);\n",
              "  }\n",
              "\n",
              "  .colab-df-quickchart-complete:disabled,\n",
              "  .colab-df-quickchart-complete:disabled:hover {\n",
              "    background-color: var(--disabled-bg-color);\n",
              "    fill: var(--disabled-fill-color);\n",
              "    box-shadow: none;\n",
              "  }\n",
              "\n",
              "  .colab-df-spinner {\n",
              "    border: 2px solid var(--fill-color);\n",
              "    border-color: transparent;\n",
              "    border-bottom-color: var(--fill-color);\n",
              "    animation:\n",
              "      spin 1s steps(1) infinite;\n",
              "  }\n",
              "\n",
              "  @keyframes spin {\n",
              "    0% {\n",
              "      border-color: transparent;\n",
              "      border-bottom-color: var(--fill-color);\n",
              "      border-left-color: var(--fill-color);\n",
              "    }\n",
              "    20% {\n",
              "      border-color: transparent;\n",
              "      border-left-color: var(--fill-color);\n",
              "      border-top-color: var(--fill-color);\n",
              "    }\n",
              "    30% {\n",
              "      border-color: transparent;\n",
              "      border-left-color: var(--fill-color);\n",
              "      border-top-color: var(--fill-color);\n",
              "      border-right-color: var(--fill-color);\n",
              "    }\n",
              "    40% {\n",
              "      border-color: transparent;\n",
              "      border-right-color: var(--fill-color);\n",
              "      border-top-color: var(--fill-color);\n",
              "    }\n",
              "    60% {\n",
              "      border-color: transparent;\n",
              "      border-right-color: var(--fill-color);\n",
              "    }\n",
              "    80% {\n",
              "      border-color: transparent;\n",
              "      border-right-color: var(--fill-color);\n",
              "      border-bottom-color: var(--fill-color);\n",
              "    }\n",
              "    90% {\n",
              "      border-color: transparent;\n",
              "      border-bottom-color: var(--fill-color);\n",
              "    }\n",
              "  }\n",
              "</style>\n",
              "\n",
              "  <script>\n",
              "    async function quickchart(key) {\n",
              "      const quickchartButtonEl =\n",
              "        document.querySelector('#' + key + ' button');\n",
              "      quickchartButtonEl.disabled = true;  // To prevent multiple clicks.\n",
              "      quickchartButtonEl.classList.add('colab-df-spinner');\n",
              "      try {\n",
              "        const charts = await google.colab.kernel.invokeFunction(\n",
              "            'suggestCharts', [key], {});\n",
              "      } catch (error) {\n",
              "        console.error('Error during call to suggestCharts:', error);\n",
              "      }\n",
              "      quickchartButtonEl.classList.remove('colab-df-spinner');\n",
              "      quickchartButtonEl.classList.add('colab-df-quickchart-complete');\n",
              "    }\n",
              "    (() => {\n",
              "      let quickchartButtonEl =\n",
              "        document.querySelector('#df-384e0956-fc49-4b1f-8c81-a7e4a82efd54 button');\n",
              "      quickchartButtonEl.style.display =\n",
              "        google.colab.kernel.accessAllowed ? 'block' : 'none';\n",
              "    })();\n",
              "  </script>\n",
              "</div>\n",
              "    </div>\n",
              "  </div>\n"
            ]
          },
          "metadata": {},
          "execution_count": 61
        }
      ]
    },
    {
      "cell_type": "code",
      "source": [],
      "metadata": {
        "id": "2TIWzG4aGyup"
      },
      "execution_count": 61,
      "outputs": []
    },
    {
      "cell_type": "markdown",
      "source": [
        "\n",
        "$y_i$ = $f(x_i)$"
      ],
      "metadata": {
        "id": "p5C6QJIhaC2D"
      }
    },
    {
      "cell_type": "code",
      "source": [
        "Xmaria = [[0,0,1,1,0,0,39.90,1,0,0,0,1,0,1,0,0,0,0,1,1,1,0,0,1,0,1,0,0,0,0,1,0,0,1,0,0,0,1]]"
      ],
      "metadata": {
        "id": "wEWPffHTGzOf"
      },
      "execution_count": 62,
      "outputs": []
    },
    {
      "cell_type": "code",
      "source": [],
      "metadata": {
        "id": "lT7dHJRPGnyV"
      },
      "execution_count": 62,
      "outputs": []
    },
    {
      "cell_type": "markdown",
      "source": [
        "Nuevos pares de información = ($Xmaria$, $ymaria$)"
      ],
      "metadata": {
        "id": "lut9qtF8aNUk"
      }
    },
    {
      "cell_type": "markdown",
      "source": [
        "### 1.6 Balanceo de los datos"
      ],
      "metadata": {
        "id": "jVoCMAN6amax"
      }
    },
    {
      "cell_type": "code",
      "source": [
        "sns.countplot(x='Churn' ,data = clientes_servicios_normalizados_df);"
      ],
      "metadata": {
        "id": "GcQYUZX7GsEj",
        "colab": {
          "base_uri": "https://localhost:8080/",
          "height": 0
        },
        "outputId": "db775a29-3889-4f24-e318-360c49fdae3a"
      },
      "execution_count": 63,
      "outputs": [
        {
          "output_type": "display_data",
          "data": {
            "text/plain": [
              "<Figure size 640x480 with 1 Axes>"
            ],
            "image/png": "[encoded data removed]"
          },
          "metadata": {}
        }
      ]
    },
    {
      "cell_type": "code",
      "source": [
        "clientes_servicios_normalizados_df.Churn.value_counts()"
      ],
      "metadata": {
        "id": "Px93DRl2GsHW",
        "colab": {
          "base_uri": "https://localhost:8080/"
        },
        "outputId": "4ad6a37c-e8cc-4926-a9f7-8901277ea63a"
      },
      "execution_count": 64,
      "outputs": [
        {
          "output_type": "execute_result",
          "data": {
            "text/plain": [
              "0    5174\n",
              "1    1869\n",
              "Name: Churn, dtype: int64"
            ]
          },
          "metadata": {},
          "execution_count": 64
        }
      ]
    },
    {
      "cell_type": "markdown",
      "source": [
        "Este desbalance el los valores de la variable no permite que el clasificador pueda trazar una frontera divisoria para la clasificación, por lo tanto hay que balancear estos valores. Como se trata de un dataset desbalanceado, es decir, las clases presentan una diferencia en frecuencia bastante notable. Entonces se puede optar por realizar un balanceo con un sobre-muestreo utilizando el paquete over_sampling de imblearn."
      ],
      "metadata": {
        "id": "GexJlD1827sr"
      }
    },
    {
      "cell_type": "code",
      "source": [
        "from imblearn.over_sampling import SMOTE\n",
        "X = clientes_servicios_normalizados_df.drop(columns = 'Churn', axis =1)\n",
        "y = clientes_servicios_normalizados_df['Churn']\n",
        "\n",
        "smt = SMOTE(random_state = 123)\n",
        "X, y =smt.fit_resample(X, y)"
      ],
      "metadata": {
        "id": "rZBApt7OGsLS"
      },
      "execution_count": 65,
      "outputs": []
    },
    {
      "cell_type": "code",
      "source": [
        "# Concatenamos para agregar los nuevos valores que balancean las dos muestas de valores 1´s y 0´s\n",
        "clientes_servicios_normalizados_df = pd.concat([X,y], axis = 1)\n",
        "clientes_servicios_normalizados_df.shape"
      ],
      "metadata": {
        "colab": {
          "base_uri": "https://localhost:8080/"
        },
        "id": "_YLpTVWH1qSD",
        "outputId": "4089c0ea-8aa3-47a9-b409-db71bb3f1787"
      },
      "execution_count": 66,
      "outputs": [
        {
          "output_type": "execute_result",
          "data": {
            "text/plain": [
              "(10348, 39)"
            ]
          },
          "metadata": {},
          "execution_count": 66
        }
      ]
    },
    {
      "cell_type": "code",
      "source": [
        "clientes_servicios_normalizados_df.Churn.value_counts()"
      ],
      "metadata": {
        "colab": {
          "base_uri": "https://localhost:8080/"
        },
        "id": "T8g7cRY32mIf",
        "outputId": "af4b35fd-a0f4-4a28-c0b8-113cdd77a9bd"
      },
      "execution_count": 67,
      "outputs": [
        {
          "output_type": "execute_result",
          "data": {
            "text/plain": [
              "0    5174\n",
              "1    5174\n",
              "Name: Churn, dtype: int64"
            ]
          },
          "metadata": {},
          "execution_count": 67
        }
      ]
    },
    {
      "cell_type": "markdown",
      "source": [
        "**Lo importante de esta sección:**\n",
        "\n",
        "- Identificar los tipos de variables: Numéricas y Categóricas;\n",
        "- Comprender el concepto de clasificación y cuando debemos utilizarlo;\n",
        "- Explicar los cálculos matemáticos por detrás de la clasificación;\n",
        "- Diferenciar la clasificación de la regresión;\n",
        "- Demostrar el balanceo de los datos."
      ],
      "metadata": {
        "id": "f9FFiF_SXSiy"
      }
    },
    {
      "cell_type": "markdown",
      "source": [
        "## Aula 2"
      ],
      "metadata": {
        "id": "gcJbgkeEawhE"
      }
    },
    {
      "cell_type": "markdown",
      "source": [
        "### 2.2 KNN entre bastidores"
      ],
      "metadata": {
        "id": "pxwhvMLkazgJ"
      }
    },
    {
      "cell_type": "markdown",
      "source": [
        "**K Vecinos mas Cercanos**: K-nearest neighbors (KNN) es un algoritmo de Machine Learning que puede ser utilizado para la clasificación. Para llegar a la previsión final, KNN sigue algunos pasos en un orden específico.\n",
        "\n",
        "1. Recibir las características de la muestra.\n",
        "2. Calcular la distancia de la nueva muestra con las muestras ya existentes.\n",
        "3. Ordenar las distancias obtenidas de menor a mayor.\n",
        "4. A partir del número K de vecinos deseados, escoger cuáles son las características que más se asemejan.\n",
        "\n",
        "\n",
        "\n",
        "\n"
      ],
      "metadata": {
        "id": "KoESaaHraKrB"
      }
    },
    {
      "cell_type": "code",
      "source": [
        "Xmaria"
      ],
      "metadata": {
        "id": "okHZY0d3GNDr",
        "colab": {
          "base_uri": "https://localhost:8080/"
        },
        "outputId": "b8aa8c76-98ff-4cbe-9563-5c66c497154f"
      },
      "execution_count": 68,
      "outputs": [
        {
          "output_type": "execute_result",
          "data": {
            "text/plain": [
              "[[0,\n",
              "  0,\n",
              "  1,\n",
              "  1,\n",
              "  0,\n",
              "  0,\n",
              "  39.9,\n",
              "  1,\n",
              "  0,\n",
              "  0,\n",
              "  0,\n",
              "  1,\n",
              "  0,\n",
              "  1,\n",
              "  0,\n",
              "  0,\n",
              "  0,\n",
              "  0,\n",
              "  1,\n",
              "  1,\n",
              "  1,\n",
              "  0,\n",
              "  0,\n",
              "  1,\n",
              "  0,\n",
              "  1,\n",
              "  0,\n",
              "  0,\n",
              "  0,\n",
              "  0,\n",
              "  1,\n",
              "  0,\n",
              "  0,\n",
              "  1,\n",
              "  0,\n",
              "  0,\n",
              "  0,\n",
              "  1]]"
            ]
          },
          "metadata": {},
          "execution_count": 68
        }
      ]
    },
    {
      "cell_type": "code",
      "source": [
        "X = clientes_servicios_normalizados_df.drop(columns ='Churn', axis = 1)\n",
        "y = clientes_servicios_normalizados_df['Churn']"
      ],
      "metadata": {
        "id": "QX6uc8gkGNGG"
      },
      "execution_count": 69,
      "outputs": []
    },
    {
      "cell_type": "code",
      "source": [
        "# Como hay variables con valores diferentes a i´s y 0´s debemos estandarizarlos o\n",
        "# llevarlos a la misma escala de las otras variables para que no afecten \"confundan\" al modelo\n",
        "from sklearn.preprocessing import StandardScaler\n",
        "scaler = StandardScaler()\n",
        "X_std = scaler.fit_transform(X)"
      ],
      "metadata": {
        "id": "0_U_Omt9GRHf"
      },
      "execution_count": 70,
      "outputs": []
    },
    {
      "cell_type": "code",
      "source": [
        "# Visualizamos los datos del primer cliente que vamos a comparar con los de Maria\n",
        "X_std[0]"
      ],
      "metadata": {
        "colab": {
          "base_uri": "https://localhost:8080/"
        },
        "id": "Icm_c1P8ilMI",
        "outputId": "7d125f7e-a3c1-4cfd-9419-0e845873568c"
      },
      "execution_count": 71,
      "outputs": [
        {
          "output_type": "execute_result",
          "data": {
            "text/plain": [
              "array([ 1.26542767, -0.52771004, -3.06083934,  0.81482091, -0.41318358,\n",
              "       -1.10771815, -1.3217706 , -0.88447396, -0.83366906,  3.18604176,\n",
              "        1.51268338, -1.04386816, -0.44617598,  0.86827317, -0.51721942,\n",
              "       -0.44617598, -0.95834643,  1.57389661, -0.44617598,  1.04285807,\n",
              "       -0.64211419, -0.44617598,  0.87979784, -0.52426638, -0.44617598,\n",
              "        1.18690873, -0.77707385, -0.44617598,  1.20311799, -0.78976268,\n",
              "       -0.44617598, -0.41989297, -0.44648735,  0.73788726,  1.30373042,\n",
              "       -0.47912706, -0.4360152 , -0.42576817])"
            ]
          },
          "metadata": {},
          "execution_count": 71
        }
      ]
    },
    {
      "cell_type": "code",
      "source": [
        "Xmaria_std = scaler.transform(pd.DataFrame(Xmaria, columns = X.columns))"
      ],
      "metadata": {
        "id": "8zcQf0yMiwtI"
      },
      "execution_count": 72,
      "outputs": []
    },
    {
      "cell_type": "markdown",
      "source": [
        "En el algoritmo KNN, para que sea hecha la clasificación de los registros con base en los vecinos más cercanos, es necesario utilizar alguna medida para identificar qué tan cercano está el registro de sus vecinos. Existen diversas medidas para evaluar esta proximidad entre variables numéricas que reciben el nombre de medidas de distancia. Cuanto mayor sea el valor de esa medida, más distante un elemento estará del otro, o sea, menor será la similaridad entre ellos."
      ],
      "metadata": {
        "id": "9ah89EsnlSDo"
      }
    },
    {
      "cell_type": "markdown",
      "source": [
        "**Distancia Euclidiana**\n",
        "\n",
        "La medida de distancia más conocida y más utilizada es la distancia euclidiana. Ella consiste en substraer las coordenadas de una observación por la otra observación, elevar al cuadrado los resultados, sumar todos los valores y extraer la raíz cuadrada.\n",
        "\n",
        "$$\\sqrt{\\sum_{i=1}^k(a_{i}-b_{i})^2}$$"
      ],
      "metadata": {
        "id": "srH-0-XdlAM3"
      }
    },
    {
      "cell_type": "markdown",
      "source": [
        "**Distancia de Manhattan**\n",
        "\n",
        "Se trata de una medida de distancia que considera apenas la suma de los módulos de las diferencias entre cada par de coordenadas.\n",
        "\n",
        "$${\\sum_{i=1}^n|a_{i}-b_{i}|}$$"
      ],
      "metadata": {
        "id": "F7aK-oGcmWm7"
      }
    },
    {
      "cell_type": "markdown",
      "source": [
        "**Distancia de Minkowski**\n",
        "\n",
        "Es una medida de distancia que es la generalización de otras distancias, como la distancia euclidiana y la de Manhattan. Consiste en extraer el módulo de la diferencia entre cada par de coordenadas elevando el resultado a m, realizar la suma de todos los términos y, finalmente, sacar la raíz m-ésima, en la cual m es un número cualquiera. La distancia euclidiana es un caso a parte cuando m es igual a 2 y la distancia de Manhattan es un caso a parte cuando m es igual a 1.\n",
        "$$\\sqrt[m]{\\sum_{i=1}^n|a_{i}-b_{i}|^m}$$"
      ],
      "metadata": {
        "id": "XdcY0xHQmoht"
      }
    },
    {
      "cell_type": "markdown",
      "source": [
        "**Distancia de Chebyshev**\n",
        "\n",
        "Es una medida de distancia que considera tan solo el valor máximo entre los módulos de las diferencias entre las variables. De esta forma, lleva en consideración apenas la variable que posee la mayor diferencia de valores entre las dos observaciones.\n",
        "$$\\max{(|a_{1}-b_{1}|, ..., |a_{n}-b_{n}|)}$$"
      ],
      "metadata": {
        "id": "zhPs1imGmyev"
      }
    },
    {
      "cell_type": "markdown",
      "source": [
        "Existen diversas otras medidas de distancia que pueden ser calculadas y cada una de ellas impacta directamente el resultado del modelo. Las distancias presentadas aquí pueden ser utilizadas en el algoritmo KNN de Scikit-learn, siendo la distancia de Minkowski la medida de distancia por defecto al instanciar el algoritmo, como se encuentra escrito en la documentación.\n",
        "\n",
        "Podemos modificar la medida de distancia utilizando el argumento metric de la función `sklearn.neighbors.KNeighborsClassifier`"
      ],
      "metadata": {
        "id": "bP7HgldlnXYA"
      }
    },
    {
      "cell_type": "code",
      "source": [
        "a = Xmaria_std\n",
        "b = X_std[0]\n",
        "exponenciacion = np.square(a - b)\n",
        "suma = np.sum(exponenciacion)\n",
        "distancia = np.sqrt(suma)\n",
        "print(f'La distancia euclidiana de Maria respecto al primer cliente es: {distancia}')"
      ],
      "metadata": {
        "id": "osJZaYnXGPMZ",
        "colab": {
          "base_uri": "https://localhost:8080/"
        },
        "outputId": "1b8bed7e-80c6-438b-b426-401f7b1a41ce"
      },
      "execution_count": 73,
      "outputs": [
        {
          "output_type": "stream",
          "name": "stdout",
          "text": [
            "La distancia euclidiana de Maria respecto al primer cliente es: 9.546414124830829\n"
          ]
        }
      ]
    },
    {
      "cell_type": "code",
      "source": [],
      "metadata": {
        "id": "dgjgiPw-GPPE"
      },
      "execution_count": 73,
      "outputs": []
    },
    {
      "cell_type": "code",
      "source": [],
      "metadata": {
        "id": "zVd_6XBIGSE1"
      },
      "execution_count": 73,
      "outputs": []
    },
    {
      "cell_type": "markdown",
      "source": [
        "### 2.3 Implementando el modelo KNN"
      ],
      "metadata": {
        "id": "x7MOiHlhkqa7"
      }
    },
    {
      "cell_type": "code",
      "source": [
        "from sklearn.model_selection import train_test_split\n",
        "X_train, X_test, y_train, y_test =train_test_split(X,y,test_size = 0.3, random_state= 123)\n"
      ],
      "metadata": {
        "id": "s4omzkiJGJF2"
      },
      "execution_count": 74,
      "outputs": []
    },
    {
      "cell_type": "code",
      "source": [
        "from sklearn.neighbors import KNeighborsClassifier\n",
        "knn = KNeighborsClassifier(metric = 'euclidean')\n",
        "knn.fit(X_train, y_train)"
      ],
      "metadata": {
        "id": "nQI3WTZPGJJC",
        "colab": {
          "base_uri": "https://localhost:8080/",
          "height": 75
        },
        "outputId": "83b847d1-f0da-40c5-f504-e5aa46b5677e"
      },
      "execution_count": 75,
      "outputs": [
        {
          "output_type": "execute_result",
          "data": {
            "text/plain": [
              "KNeighborsClassifier(metric='euclidean')"
            ],
            "text/html": [
              "<style>#sk-container-id-4 {color: black;background-color: white;}#sk-container-id-4 pre{padding: 0;}#sk-container-id-4 div.sk-toggleable {background-color: white;}#sk-container-id-4 label.sk-toggleable__label {cursor: pointer;display: block;width: 100%;margin-bottom: 0;padding: 0.3em;box-sizing: border-box;text-align: center;}#sk-container-id-4 label.sk-toggleable__label-arrow:before {content: \"▸\";float: left;margin-right: 0.25em;color: #696969;}#sk-container-id-4 label.sk-toggleable__label-arrow:hover:before {color: black;}#sk-container-id-4 div.sk-estimator:hover label.sk-toggleable__label-arrow:before {color: black;}#sk-container-id-4 div.sk-toggleable__content {max-height: 0;max-width: 0;overflow: hidden;text-align: left;background-color: #f0f8ff;}#sk-container-id-4 div.sk-toggleable__content pre {margin: 0.2em;color: black;border-radius: 0.25em;background-color: #f0f8ff;}#sk-container-id-4 input.sk-toggleable__control:checked~div.sk-toggleable__content {max-height: 200px;max-width: 100%;overflow: auto;}#sk-container-id-4 input.sk-toggleable__control:checked~label.sk-toggleable__label-arrow:before {content: \"▾\";}#sk-container-id-4 div.sk-estimator input.sk-toggleable__control:checked~label.sk-toggleable__label {background-color: #d4ebff;}#sk-container-id-4 div.sk-label input.sk-toggleable__control:checked~label.sk-toggleable__label {background-color: #d4ebff;}#sk-container-id-4 input.sk-hidden--visually {border: 0;clip: rect(1px 1px 1px 1px);clip: rect(1px, 1px, 1px, 1px);height: 1px;margin: -1px;overflow: hidden;padding: 0;position: absolute;width: 1px;}#sk-container-id-4 div.sk-estimator {font-family: monospace;background-color: #f0f8ff;border: 1px dotted black;border-radius: 0.25em;box-sizing: border-box;margin-bottom: 0.5em;}#sk-container-id-4 div.sk-estimator:hover {background-color: #d4ebff;}#sk-container-id-4 div.sk-parallel-item::after {content: \"\";width: 100%;border-bottom: 1px solid gray;flex-grow: 1;}#sk-container-id-4 div.sk-label:hover label.sk-toggleable__label {background-color: #d4ebff;}#sk-container-id-4 div.sk-serial::before {content: \"\";position: absolute;border-left: 1px solid gray;box-sizing: border-box;top: 0;bottom: 0;left: 50%;z-index: 0;}#sk-container-id-4 div.sk-serial {display: flex;flex-direction: column;align-items: center;background-color: white;padding-right: 0.2em;padding-left: 0.2em;position: relative;}#sk-container-id-4 div.sk-item {position: relative;z-index: 1;}#sk-container-id-4 div.sk-parallel {display: flex;align-items: stretch;justify-content: center;background-color: white;position: relative;}#sk-container-id-4 div.sk-item::before, #sk-container-id-4 div.sk-parallel-item::before {content: \"\";position: absolute;border-left: 1px solid gray;box-sizing: border-box;top: 0;bottom: 0;left: 50%;z-index: -1;}#sk-container-id-4 div.sk-parallel-item {display: flex;flex-direction: column;z-index: 1;position: relative;background-color: white;}#sk-container-id-4 div.sk-parallel-item:first-child::after {align-self: flex-end;width: 50%;}#sk-container-id-4 div.sk-parallel-item:last-child::after {align-self: flex-start;width: 50%;}#sk-container-id-4 div.sk-parallel-item:only-child::after {width: 0;}#sk-container-id-4 div.sk-dashed-wrapped {border: 1px dashed gray;margin: 0 0.4em 0.5em 0.4em;box-sizing: border-box;padding-bottom: 0.4em;background-color: white;}#sk-container-id-4 div.sk-label label {font-family: monospace;font-weight: bold;display: inline-block;line-height: 1.2em;}#sk-container-id-4 div.sk-label-container {text-align: center;}#sk-container-id-4 div.sk-container {/* jupyter's `normalize.less` sets `[hidden] { display: none; }` but bootstrap.min.css set `[hidden] { display: none !important; }` so we also need the `!important` here to be able to override the default hidden behavior on the sphinx rendered scikit-learn.org. See: https://github.com/scikit-learn/scikit-learn/issues/21755 */display: inline-block !important;position: relative;}#sk-container-id-4 div.sk-text-repr-fallback {display: none;}</style><div id=\"sk-container-id-4\" class=\"sk-top-container\"><div class=\"sk-text-repr-fallback\"><pre>KNeighborsClassifier(metric=&#x27;euclidean&#x27;)</pre><b>In a Jupyter environment, please rerun this cell to show the HTML representation or trust the notebook. <br />On GitHub, the HTML representation is unable to render, please try loading this page with nbviewer.org.</b></div><div class=\"sk-container\" hidden><div class=\"sk-item\"><div class=\"sk-estimator sk-toggleable\"><input class=\"sk-toggleable__control sk-hidden--visually\" id=\"sk-estimator-id-4\" type=\"checkbox\" checked><label for=\"sk-estimator-id-4\" class=\"sk-toggleable__label sk-toggleable__label-arrow\">KNeighborsClassifier</label><div class=\"sk-toggleable__content\"><pre>KNeighborsClassifier(metric=&#x27;euclidean&#x27;)</pre></div></div></div></div></div>"
            ]
          },
          "metadata": {},
          "execution_count": 75
        }
      ]
    },
    {
      "cell_type": "code",
      "source": [
        "prevision_knn = knn.predict(X_test)"
      ],
      "metadata": {
        "id": "spDDpJYWamy9"
      },
      "execution_count": 76,
      "outputs": []
    },
    {
      "cell_type": "code",
      "source": [
        "prevision_knn"
      ],
      "metadata": {
        "id": "VaeifugPGJRo",
        "colab": {
          "base_uri": "https://localhost:8080/"
        },
        "outputId": "b907e48a-ff50-4a2d-e7e9-8e80537b0767"
      },
      "execution_count": 77,
      "outputs": [
        {
          "output_type": "execute_result",
          "data": {
            "text/plain": [
              "array([1, 0, 1, ..., 1, 1, 1])"
            ]
          },
          "metadata": {},
          "execution_count": 77
        }
      ]
    },
    {
      "cell_type": "markdown",
      "source": [
        "nuestro modelo nos indica que el primer cliente de X_text abandona, el segundo se queda con los servicos de la empresa , el tercero abandona y asi sucesivamente"
      ],
      "metadata": {
        "id": "I13sOHGebD-5"
      }
    },
    {
      "cell_type": "markdown",
      "source": [
        "**Importante en esta sección:**\n",
        "\n",
        "- Utilizar la división del conjunto de datos en entrenamiento y prueba;\n",
        "- Implementar el modelo K-nearest neighbors (KNN);\n",
        "- Explicar cómo funciona el modelo KNN con ideas básicas;\n",
        "- Identificar las funciones de distancia."
      ],
      "metadata": {
        "id": "VMYdSACfcZw7"
      }
    },
    {
      "cell_type": "markdown",
      "source": [
        "## Aula 3"
      ],
      "metadata": {
        "id": "eR7GwgGFpIYy"
      }
    },
    {
      "cell_type": "markdown",
      "source": [
        "### 3.3 Implementando el modelo Bernoulli Naive Bayes"
      ],
      "metadata": {
        "id": "2TORvjaqpKGp"
      }
    },
    {
      "cell_type": "markdown",
      "source": [
        "**Modelo Bernoulli Naïve Bayes**\n",
        "\n",
        "Existen diversos tipos de algoritmos de clasificación de Machine Learning, considerando que cada uno de ellos posee sus características específicas y aplicaciones en diferentes escenarios.\n",
        "\n",
        "- El algoritmo de Naïve Bayes funciona como un clasificador, pues es utilizado para prever a cuál categoría pertenece una determinada muestra.\n",
        "- El modelo de Naïve Bayes aplica el concepto de probabilidad utilizando el teorema de Bayes.\n",
        "\n",
        "Los modelos clasificadores de Naïve Bayes realizan sus cálculos con base en probabilidades y desconsideran la correlación entre las variables.\n",
        "Estos son los 3 modelos más conocidos que son implementados con el algoritmo Naïve Bayes: BernoulliNB(), GaussianNB() y MultinomialNB().\n",
        "\n",
        "\n"
      ],
      "metadata": {
        "id": "hLq8VWBTfB3c"
      }
    },
    {
      "cell_type": "code",
      "source": [
        "from sklearn.naive_bayes import BernoulliNB\n",
        "mediana = np.median(X_train)\n",
        "bnb = BernoulliNB(binarize = mediana)\n",
        "bnb.fit(X_train, y_train)"
      ],
      "metadata": {
        "id": "60MSIlp_F9Ou",
        "colab": {
          "base_uri": "https://localhost:8080/",
          "height": 75
        },
        "outputId": "7e119e90-aa25-4657-a90a-da577b899773"
      },
      "execution_count": 78,
      "outputs": [
        {
          "output_type": "execute_result",
          "data": {
            "text/plain": [
              "BernoulliNB()"
            ],
            "text/html": [
              "<style>#sk-container-id-5 {color: black;background-color: white;}#sk-container-id-5 pre{padding: 0;}#sk-container-id-5 div.sk-toggleable {background-color: white;}#sk-container-id-5 label.sk-toggleable__label {cursor: pointer;display: block;width: 100%;margin-bottom: 0;padding: 0.3em;box-sizing: border-box;text-align: center;}#sk-container-id-5 label.sk-toggleable__label-arrow:before {content: \"▸\";float: left;margin-right: 0.25em;color: #696969;}#sk-container-id-5 label.sk-toggleable__label-arrow:hover:before {color: black;}#sk-container-id-5 div.sk-estimator:hover label.sk-toggleable__label-arrow:before {color: black;}#sk-container-id-5 div.sk-toggleable__content {max-height: 0;max-width: 0;overflow: hidden;text-align: left;background-color: #f0f8ff;}#sk-container-id-5 div.sk-toggleable__content pre {margin: 0.2em;color: black;border-radius: 0.25em;background-color: #f0f8ff;}#sk-container-id-5 input.sk-toggleable__control:checked~div.sk-toggleable__content {max-height: 200px;max-width: 100%;overflow: auto;}#sk-container-id-5 input.sk-toggleable__control:checked~label.sk-toggleable__label-arrow:before {content: \"▾\";}#sk-container-id-5 div.sk-estimator input.sk-toggleable__control:checked~label.sk-toggleable__label {background-color: #d4ebff;}#sk-container-id-5 div.sk-label input.sk-toggleable__control:checked~label.sk-toggleable__label {background-color: #d4ebff;}#sk-container-id-5 input.sk-hidden--visually {border: 0;clip: rect(1px 1px 1px 1px);clip: rect(1px, 1px, 1px, 1px);height: 1px;margin: -1px;overflow: hidden;padding: 0;position: absolute;width: 1px;}#sk-container-id-5 div.sk-estimator {font-family: monospace;background-color: #f0f8ff;border: 1px dotted black;border-radius: 0.25em;box-sizing: border-box;margin-bottom: 0.5em;}#sk-container-id-5 div.sk-estimator:hover {background-color: #d4ebff;}#sk-container-id-5 div.sk-parallel-item::after {content: \"\";width: 100%;border-bottom: 1px solid gray;flex-grow: 1;}#sk-container-id-5 div.sk-label:hover label.sk-toggleable__label {background-color: #d4ebff;}#sk-container-id-5 div.sk-serial::before {content: \"\";position: absolute;border-left: 1px solid gray;box-sizing: border-box;top: 0;bottom: 0;left: 50%;z-index: 0;}#sk-container-id-5 div.sk-serial {display: flex;flex-direction: column;align-items: center;background-color: white;padding-right: 0.2em;padding-left: 0.2em;position: relative;}#sk-container-id-5 div.sk-item {position: relative;z-index: 1;}#sk-container-id-5 div.sk-parallel {display: flex;align-items: stretch;justify-content: center;background-color: white;position: relative;}#sk-container-id-5 div.sk-item::before, #sk-container-id-5 div.sk-parallel-item::before {content: \"\";position: absolute;border-left: 1px solid gray;box-sizing: border-box;top: 0;bottom: 0;left: 50%;z-index: -1;}#sk-container-id-5 div.sk-parallel-item {display: flex;flex-direction: column;z-index: 1;position: relative;background-color: white;}#sk-container-id-5 div.sk-parallel-item:first-child::after {align-self: flex-end;width: 50%;}#sk-container-id-5 div.sk-parallel-item:last-child::after {align-self: flex-start;width: 50%;}#sk-container-id-5 div.sk-parallel-item:only-child::after {width: 0;}#sk-container-id-5 div.sk-dashed-wrapped {border: 1px dashed gray;margin: 0 0.4em 0.5em 0.4em;box-sizing: border-box;padding-bottom: 0.4em;background-color: white;}#sk-container-id-5 div.sk-label label {font-family: monospace;font-weight: bold;display: inline-block;line-height: 1.2em;}#sk-container-id-5 div.sk-label-container {text-align: center;}#sk-container-id-5 div.sk-container {/* jupyter's `normalize.less` sets `[hidden] { display: none; }` but bootstrap.min.css set `[hidden] { display: none !important; }` so we also need the `!important` here to be able to override the default hidden behavior on the sphinx rendered scikit-learn.org. See: https://github.com/scikit-learn/scikit-learn/issues/21755 */display: inline-block !important;position: relative;}#sk-container-id-5 div.sk-text-repr-fallback {display: none;}</style><div id=\"sk-container-id-5\" class=\"sk-top-container\"><div class=\"sk-text-repr-fallback\"><pre>BernoulliNB()</pre><b>In a Jupyter environment, please rerun this cell to show the HTML representation or trust the notebook. <br />On GitHub, the HTML representation is unable to render, please try loading this page with nbviewer.org.</b></div><div class=\"sk-container\" hidden><div class=\"sk-item\"><div class=\"sk-estimator sk-toggleable\"><input class=\"sk-toggleable__control sk-hidden--visually\" id=\"sk-estimator-id-5\" type=\"checkbox\" checked><label for=\"sk-estimator-id-5\" class=\"sk-toggleable__label sk-toggleable__label-arrow\">BernoulliNB</label><div class=\"sk-toggleable__content\"><pre>BernoulliNB()</pre></div></div></div></div></div>"
            ]
          },
          "metadata": {},
          "execution_count": 78
        }
      ]
    },
    {
      "cell_type": "code",
      "source": [
        "prevision_bnb = bnb.predict(X_test)\n"
      ],
      "metadata": {
        "id": "eNimJaz0F9VI"
      },
      "execution_count": 79,
      "outputs": []
    },
    {
      "cell_type": "markdown",
      "source": [
        "Imprimimos el array de resultados de prevision del modelo Bernoulli Naïve Bayes y comparemos con el array de previsiones del modelo K-nearest neighbors (KNN)"
      ],
      "metadata": {
        "id": "vFG45LtYn92P"
      }
    },
    {
      "cell_type": "code",
      "source": [
        "prevision_bnb"
      ],
      "metadata": {
        "colab": {
          "base_uri": "https://localhost:8080/"
        },
        "id": "7qA1PObpnY9d",
        "outputId": "60e6b287-abba-4053-8a9e-d88e540e0e87"
      },
      "execution_count": 80,
      "outputs": [
        {
          "output_type": "execute_result",
          "data": {
            "text/plain": [
              "array([1, 0, 0, ..., 1, 1, 1])"
            ]
          },
          "metadata": {},
          "execution_count": 80
        }
      ]
    },
    {
      "cell_type": "code",
      "source": [
        "prevision_knn"
      ],
      "metadata": {
        "colab": {
          "base_uri": "https://localhost:8080/"
        },
        "id": "2yF6XzpVoDAo",
        "outputId": "304ced9c-5b75-4fbd-e332-2894a97f7745"
      },
      "execution_count": 81,
      "outputs": [
        {
          "output_type": "execute_result",
          "data": {
            "text/plain": [
              "array([1, 0, 1, ..., 1, 1, 1])"
            ]
          },
          "metadata": {},
          "execution_count": 81
        }
      ]
    },
    {
      "cell_type": "markdown",
      "source": [
        "Notamos que los resultados de previsón de los modelos usados son diferentes"
      ],
      "metadata": {
        "id": "OfJH97XIoHNz"
      }
    },
    {
      "cell_type": "markdown",
      "source": [
        "**Lo importante en esta sección:**\n",
        "\n",
        "- Utilizar el Clasificador de Naïve Bayes;\n",
        "- Explicar los cálculos matemáticos por detrás del modelo;\n",
        "- Implementar el algoritmo BernoulliNB();\n",
        "- Explicar la probabilidad condicional y el teorema de Bayes."
      ],
      "metadata": {
        "id": "MjGu0JbmpPFM"
      }
    },
    {
      "cell_type": "markdown",
      "source": [
        "## Aula 4"
      ],
      "metadata": {
        "id": "VxcunjjspTkA"
      }
    },
    {
      "cell_type": "markdown",
      "source": [
        "### 4.3 Implementando el modelo de Árbol de Decisión"
      ],
      "metadata": {
        "id": "uxQOvvR_pbQ3"
      }
    },
    {
      "cell_type": "markdown",
      "source": [
        "El proceso de construcción de un árbol de decisión debe tomar en cuenta estos datos importantes:\n",
        "\n",
        "- **El índice de Gini** nos  informa el grado de heterogeneidad de los datos. El objetivo de él es medir la frecuencia de que un elemento aleatorio de un nodo sea rotulado de manera incorrecta. En otras palabras, este índice es capaz de medir la impureza de un nodo. Ser impuro significa tener una mayor concentración de clases en dicho nodo.\n",
        "- **Entropía:**La idea básica de la entropía es medir el desorden de los datos de un nodo por medio de la variable clasificadora. Así como el índice de Gini, esta es utilizada para caracterizar la impureza de los datos.\n",
        "\n",
        "- **Profundidad del árbol de decisión:** En caso que el árbol sea muy \"profundo\" (verticalmente muchos subniveles de nodos), puede ocurrir el sobreajuste de los datos de entrenamiento, también conocido como **overfitting**. Uno de los problemas debidos a la profundidad del árbol de decisión es que, se ajuste demasiado a los datos de entrenamiento, haciendo que el modelo tenga una alta exactitud para los datos de entrenamiento, pero no generaliza bien con los datos de prueba."
      ],
      "metadata": {
        "id": "FnN-UEYerpGs"
      }
    },
    {
      "cell_type": "code",
      "source": [
        "from sklearn.tree import DecisionTreeClassifier\n",
        "dtc = DecisionTreeClassifier(criterion = 'entropy', random_state = 42)\n"
      ],
      "metadata": {
        "id": "3PO2nTk6FlfV"
      },
      "execution_count": 82,
      "outputs": []
    },
    {
      "cell_type": "code",
      "source": [
        "dtc.fit(X_train, y_train)"
      ],
      "metadata": {
        "id": "MQIJlr3LFliK",
        "colab": {
          "base_uri": "https://localhost:8080/",
          "height": 0
        },
        "outputId": "865a2dec-5b32-45c5-ca29-91bcaa859039"
      },
      "execution_count": 83,
      "outputs": [
        {
          "output_type": "execute_result",
          "data": {
            "text/plain": [
              "DecisionTreeClassifier(criterion='entropy', random_state=42)"
            ],
            "text/html": [
              "<style>#sk-container-id-6 {color: black;background-color: white;}#sk-container-id-6 pre{padding: 0;}#sk-container-id-6 div.sk-toggleable {background-color: white;}#sk-container-id-6 label.sk-toggleable__label {cursor: pointer;display: block;width: 100%;margin-bottom: 0;padding: 0.3em;box-sizing: border-box;text-align: center;}#sk-container-id-6 label.sk-toggleable__label-arrow:before {content: \"▸\";float: left;margin-right: 0.25em;color: #696969;}#sk-container-id-6 label.sk-toggleable__label-arrow:hover:before {color: black;}#sk-container-id-6 div.sk-estimator:hover label.sk-toggleable__label-arrow:before {color: black;}#sk-container-id-6 div.sk-toggleable__content {max-height: 0;max-width: 0;overflow: hidden;text-align: left;background-color: #f0f8ff;}#sk-container-id-6 div.sk-toggleable__content pre {margin: 0.2em;color: black;border-radius: 0.25em;background-color: #f0f8ff;}#sk-container-id-6 input.sk-toggleable__control:checked~div.sk-toggleable__content {max-height: 200px;max-width: 100%;overflow: auto;}#sk-container-id-6 input.sk-toggleable__control:checked~label.sk-toggleable__label-arrow:before {content: \"▾\";}#sk-container-id-6 div.sk-estimator input.sk-toggleable__control:checked~label.sk-toggleable__label {background-color: #d4ebff;}#sk-container-id-6 div.sk-label input.sk-toggleable__control:checked~label.sk-toggleable__label {background-color: #d4ebff;}#sk-container-id-6 input.sk-hidden--visually {border: 0;clip: rect(1px 1px 1px 1px);clip: rect(1px, 1px, 1px, 1px);height: 1px;margin: -1px;overflow: hidden;padding: 0;position: absolute;width: 1px;}#sk-container-id-6 div.sk-estimator {font-family: monospace;background-color: #f0f8ff;border: 1px dotted black;border-radius: 0.25em;box-sizing: border-box;margin-bottom: 0.5em;}#sk-container-id-6 div.sk-estimator:hover {background-color: #d4ebff;}#sk-container-id-6 div.sk-parallel-item::after {content: \"\";width: 100%;border-bottom: 1px solid gray;flex-grow: 1;}#sk-container-id-6 div.sk-label:hover label.sk-toggleable__label {background-color: #d4ebff;}#sk-container-id-6 div.sk-serial::before {content: \"\";position: absolute;border-left: 1px solid gray;box-sizing: border-box;top: 0;bottom: 0;left: 50%;z-index: 0;}#sk-container-id-6 div.sk-serial {display: flex;flex-direction: column;align-items: center;background-color: white;padding-right: 0.2em;padding-left: 0.2em;position: relative;}#sk-container-id-6 div.sk-item {position: relative;z-index: 1;}#sk-container-id-6 div.sk-parallel {display: flex;align-items: stretch;justify-content: center;background-color: white;position: relative;}#sk-container-id-6 div.sk-item::before, #sk-container-id-6 div.sk-parallel-item::before {content: \"\";position: absolute;border-left: 1px solid gray;box-sizing: border-box;top: 0;bottom: 0;left: 50%;z-index: -1;}#sk-container-id-6 div.sk-parallel-item {display: flex;flex-direction: column;z-index: 1;position: relative;background-color: white;}#sk-container-id-6 div.sk-parallel-item:first-child::after {align-self: flex-end;width: 50%;}#sk-container-id-6 div.sk-parallel-item:last-child::after {align-self: flex-start;width: 50%;}#sk-container-id-6 div.sk-parallel-item:only-child::after {width: 0;}#sk-container-id-6 div.sk-dashed-wrapped {border: 1px dashed gray;margin: 0 0.4em 0.5em 0.4em;box-sizing: border-box;padding-bottom: 0.4em;background-color: white;}#sk-container-id-6 div.sk-label label {font-family: monospace;font-weight: bold;display: inline-block;line-height: 1.2em;}#sk-container-id-6 div.sk-label-container {text-align: center;}#sk-container-id-6 div.sk-container {/* jupyter's `normalize.less` sets `[hidden] { display: none; }` but bootstrap.min.css set `[hidden] { display: none !important; }` so we also need the `!important` here to be able to override the default hidden behavior on the sphinx rendered scikit-learn.org. See: https://github.com/scikit-learn/scikit-learn/issues/21755 */display: inline-block !important;position: relative;}#sk-container-id-6 div.sk-text-repr-fallback {display: none;}</style><div id=\"sk-container-id-6\" class=\"sk-top-container\"><div class=\"sk-text-repr-fallback\"><pre>DecisionTreeClassifier(criterion=&#x27;entropy&#x27;, random_state=42)</pre><b>In a Jupyter environment, please rerun this cell to show the HTML representation or trust the notebook. <br />On GitHub, the HTML representation is unable to render, please try loading this page with nbviewer.org.</b></div><div class=\"sk-container\" hidden><div class=\"sk-item\"><div class=\"sk-estimator sk-toggleable\"><input class=\"sk-toggleable__control sk-hidden--visually\" id=\"sk-estimator-id-6\" type=\"checkbox\" checked><label for=\"sk-estimator-id-6\" class=\"sk-toggleable__label sk-toggleable__label-arrow\">DecisionTreeClassifier</label><div class=\"sk-toggleable__content\"><pre>DecisionTreeClassifier(criterion=&#x27;entropy&#x27;, random_state=42)</pre></div></div></div></div></div>"
            ]
          },
          "metadata": {},
          "execution_count": 83
        }
      ]
    },
    {
      "cell_type": "code",
      "source": [
        "# Consulatamos como calificó la importancia de las feactures del dataset según su impacto en la determinación de la variable dependiente\n",
        "dtc.feature_importances_"
      ],
      "metadata": {
        "id": "PAs-zC0dFlpc",
        "colab": {
          "base_uri": "https://localhost:8080/"
        },
        "outputId": "2f7c0fe1-6128-4266-a9ad-077fbec47fbb"
      },
      "execution_count": 84,
      "outputs": [
        {
          "output_type": "execute_result",
          "data": {
            "text/plain": [
              "array([0.02377959, 0.0140184 , 0.006427  , 0.02068509, 0.01622046,\n",
              "       0.16336089, 0.22060732, 0.00893062, 0.01068695, 0.00344576,\n",
              "       0.0026108 , 0.03128648, 0.00027769, 0.00937665, 0.01663757,\n",
              "       0.00065123, 0.00426312, 0.01081522, 0.00368329, 0.00850781,\n",
              "       0.00818099, 0.        , 0.01462735, 0.02004135, 0.        ,\n",
              "       0.00474437, 0.00323532, 0.        , 0.00842423, 0.01127152,\n",
              "       0.        , 0.07445054, 0.03622159, 0.16358635, 0.0213992 ,\n",
              "       0.0204582 , 0.01858719, 0.01849987])"
            ]
          },
          "metadata": {},
          "execution_count": 84
        }
      ]
    },
    {
      "cell_type": "markdown",
      "source": [
        "Las feactures o atributos con valor mas cercano a 1 es mas importante y aquellas con valores mas cercano a cero son menos importantes. Para entender mejor este array se recomienda graficar el diagrama del arbol de decisiones de este conjunto de datos"
      ],
      "metadata": {
        "id": "_YL1I8dEz50x"
      }
    },
    {
      "cell_type": "code",
      "source": [
        "prevision_dtc = dtc.predict(X_test)\n",
        "prevision_dtc"
      ],
      "metadata": {
        "colab": {
          "base_uri": "https://localhost:8080/"
        },
        "id": "lHKH02JB07zx",
        "outputId": "96b3cde1-fb71-436c-9bb3-0d1a67757f3a"
      },
      "execution_count": 85,
      "outputs": [
        {
          "output_type": "execute_result",
          "data": {
            "text/plain": [
              "array([0, 0, 0, ..., 1, 1, 1])"
            ]
          },
          "metadata": {},
          "execution_count": 85
        }
      ]
    },
    {
      "cell_type": "markdown",
      "source": [
        "Este resultado de prevision es diferente a los resultados de los dos modelos probados anteriomente: Bernoulli Naïve Bayes y K-nearest neighbors (KNN), en la siguiente sección veremos que criterios seguir para escoger el modelo mas apropiado para nuestro conjunto de datos"
      ],
      "metadata": {
        "id": "TUElCV-r1Gb0"
      }
    },
    {
      "cell_type": "markdown",
      "source": [
        "**Lo importante en esta sección:**\n",
        "\n",
        "- Explicar el modelo de Árbol de Decisión.\n",
        "- Interpretar los cálculos matemáticos detrás del modelo de Árbol de Decisión.\n",
        "- Implementar el algoritmo DecisionTreeClassifier()."
      ],
      "metadata": {
        "id": "dJkAb0h_2HE1"
      }
    },
    {
      "cell_type": "markdown",
      "source": [
        "## Aula 5"
      ],
      "metadata": {
        "id": "osnSgpP9v6jA"
      }
    },
    {
      "cell_type": "markdown",
      "source": [
        "### 5.1 Matriz de Confusión"
      ],
      "metadata": {
        "id": "9Ob2RiLLv8xp"
      }
    },
    {
      "cell_type": "markdown",
      "source": [
        "![img](https://miro.medium.com/max/799/1*XsFcyoLXNdAkbSfNGnxhEg.png)"
      ],
      "metadata": {
        "id": "7BmtcS9vxBEE"
      }
    },
    {
      "cell_type": "markdown",
      "source": [
        "**Verdadero Negativo (true negative - TN):** Ocurre cuando el modelo clasifica la muestra de forma correcta.\n",
        "\n",
        "**Falso Positivo (false positive - FP):** El modelo clasifica la muestra de forma incorrecta. También se conoce como Error de Tipo I.\n",
        "\n",
        "**Falso Negativo (false negative - FN):** El modelo clasifica la muestra de forma incorrecta. También se conoce como Error de Tipo II.\n",
        "\n",
        "**Verdadero Positivo (true positive - TP):** La clasificación de la muestra corresponde con el conjunto de datos reales."
      ],
      "metadata": {
        "id": "F_VgxSyDBg_e"
      }
    },
    {
      "cell_type": "markdown",
      "source": [
        "Comparemos las matrices de confución de nuestros tres modelos"
      ],
      "metadata": {
        "id": "NhGhwjxx_iRm"
      }
    },
    {
      "cell_type": "code",
      "source": [
        "from sklearn.metrics import confusion_matrix\n",
        "print(confusion_matrix(y_test, prevision_knn))"
      ],
      "metadata": {
        "id": "TncQZkafFZQm",
        "colab": {
          "base_uri": "https://localhost:8080/"
        },
        "outputId": "6b34751b-e71c-4f75-e8e2-f2026df8097c"
      },
      "execution_count": 86,
      "outputs": [
        {
          "output_type": "stream",
          "name": "stdout",
          "text": [
            "[[1125  444]\n",
            " [ 152 1384]]\n"
          ]
        }
      ]
    },
    {
      "cell_type": "code",
      "source": [
        "print(confusion_matrix(y_test, prevision_bnb))"
      ],
      "metadata": {
        "id": "1NRybdx4FZXo",
        "colab": {
          "base_uri": "https://localhost:8080/"
        },
        "outputId": "8821c8da-ab3e-4dca-9cef-fef47749840d"
      },
      "execution_count": 87,
      "outputs": [
        {
          "output_type": "stream",
          "name": "stdout",
          "text": [
            "[[1075  494]\n",
            " [ 233 1303]]\n"
          ]
        }
      ]
    },
    {
      "cell_type": "code",
      "source": [
        "print(confusion_matrix(y_test, prevision_dtc))"
      ],
      "metadata": {
        "id": "oC0EBl6RFZgm",
        "colab": {
          "base_uri": "https://localhost:8080/"
        },
        "outputId": "99fde85c-fb67-44e6-e787-5364539dd6f1"
      },
      "execution_count": 88,
      "outputs": [
        {
          "output_type": "stream",
          "name": "stdout",
          "text": [
            "[[1241  328]\n",
            " [ 278 1258]]\n"
          ]
        }
      ]
    },
    {
      "cell_type": "markdown",
      "source": [
        "De la comparación observamos:\n",
        "\n",
        "- El modelo Knn arrojó menos falsos positivos y mas verdaderos negativos.\n",
        "- El modelo dtc arrojó menos falsos negativos y mas verdaderos positivos\n",
        "- El modelo bnb obtuvo resultados intermedios"
      ],
      "metadata": {
        "id": "VwqiCNdJ_-xf"
      }
    },
    {
      "cell_type": "markdown",
      "source": [
        "**Gráfico de matriz de confusión con mapa de calor**"
      ],
      "metadata": {
        "id": "Vv6M3RjbFHkk"
      }
    },
    {
      "cell_type": "code",
      "source": [
        "import seaborn as sns\n",
        "import matplotlib.pyplot as plt\n",
        "cm = confusion_matrix(y_test, prevision_knn)\n",
        "\n",
        "group_names = ['True Neg (TN)','False Pos (FP)','False Neg (FN)','True Pos (TP)']\n",
        "group_counts = [f\"{value}\" for value in cm.flatten()]\n",
        "labels = [f\"{v1}\" for v1 in group_names]\n",
        "labels = [f\"{v1}\\n{v2}\" for v1, v2 in zip(group_names, group_counts)]\n",
        "\n",
        "labels = np.asarray(labels).reshape(cm.shape)\n",
        "\n",
        "ax = plt.subplot()\n",
        "sns.set(font_scale=1.4)\n",
        "sns.heatmap(cm, annot=labels, ax=ax, cmap=\"viridis\", fmt=\"\")\n",
        "\n",
        "label_font = {'size':'14'}\n",
        "ax.set_xlabel('Valores Previstos', fontdict=label_font);\n",
        "ax.set_ylabel('Valores Reales', fontdict=label_font);\n",
        "\n",
        "ax.tick_params(axis='both', which='major', labelsize=10)\n",
        "ax.xaxis.set_ticklabels(['Se queda', 'Abandona']);\n",
        "ax.yaxis.set_ticklabels(['Se queda', 'Abandona']);"
      ],
      "metadata": {
        "colab": {
          "base_uri": "https://localhost:8080/",
          "height": 458
        },
        "id": "vOBus8QvCgsT",
        "outputId": "d60d1bf9-5cab-4b5d-82d5-47b4ed1ab529"
      },
      "execution_count": 89,
      "outputs": [
        {
          "output_type": "display_data",
          "data": {
            "text/plain": [
              "<Figure size 640x480 with 2 Axes>"
            ],
            "image/png": "[encoded data removed]"
          },
          "metadata": {}
        }
      ]
    },
    {
      "cell_type": "markdown",
      "source": [
        "### 5.2 Métricas"
      ],
      "metadata": {
        "id": "m2F80mBRKWkC"
      }
    },
    {
      "cell_type": "markdown",
      "source": [
        "Cuando trabajamos con problemas de clasificación, es importante utilizar alguna métrica para evaluar el desempeño de nuestro modelo. Sin embargo, existen diferentes métricas de evaluación y es necesario conocer cada una de ellas para saber cuál debemos utilizar de acuerdo con el problema que estamos tratando de resolver.\n",
        "\n",
        "A través de la identificación de los diagnósticos, es posible extraer métricas de la matriz de confusión que son importantes para evaluar qué también, el modelo está clasificando los datos.\n",
        "\n",
        "Las principales métricas que pueden ser extraídas de la matriz de confusión son las siguientes:\n",
        "\n",
        "- Exactitud\n",
        "- Precisión\n",
        "- Sensibilidad\n",
        "- Especificidad\n",
        "- F1 Score\n",
        "\n"
      ],
      "metadata": {
        "id": "Cw4s1Y9iFcJN"
      }
    },
    {
      "cell_type": "markdown",
      "source": [
        "**Exactitud (Accuracy):**"
      ],
      "metadata": {
        "id": "ttlYGQQqKhtg"
      }
    },
    {
      "cell_type": "markdown",
      "source": [
        "Evalúa la proporción de aciertos con relación a todas las previsiones realizadas. Esta se obtiene sumando la diagonal principal de la matriz y dividiendo entre la suma de todos los valores\n",
        "\n",
        "> $Accuracy$ = ${TP + TN \\over TP + FP + TN + FN}$\n",
        "\n",
        "La exactitud es utilizada cuando queremos saber el desempeño general del modelo, esto es, entre todas las clasificaciones realizadas, cuántas fueron clasificadas correctamente por el modelo. La exactitud es un buen indicador general del desempeño del modelo. Pero, en algunas situaciones, como en los modelos de identificación de fraude, esta puede ser un poco engañosa."
      ],
      "metadata": {
        "id": "-kQdmlWDKkAf"
      }
    },
    {
      "cell_type": "code",
      "source": [
        "from sklearn.metrics import accuracy_score\n",
        "print(f'La exactitud del modelo KNN es {accuracy_score(y_test, prevision_knn).round(2)*100}%')"
      ],
      "metadata": {
        "id": "ux8F5bjpFV32",
        "colab": {
          "base_uri": "https://localhost:8080/"
        },
        "outputId": "0d51264a-e1ee-4c8a-f672-1d42e1d814ba"
      },
      "execution_count": 100,
      "outputs": [
        {
          "output_type": "stream",
          "name": "stdout",
          "text": [
            "La exactitud del modelo KNN es 81.0%\n"
          ]
        }
      ]
    },
    {
      "cell_type": "code",
      "source": [
        "print(f'La exactitud  del modelo BNB es {accuracy_score(y_test, prevision_bnb).round(2)*100}%')"
      ],
      "metadata": {
        "id": "pqg-BduYFV6d",
        "colab": {
          "base_uri": "https://localhost:8080/"
        },
        "outputId": "777ad4bc-d9fc-4e36-f3fe-5c65029bec61"
      },
      "execution_count": 101,
      "outputs": [
        {
          "output_type": "stream",
          "name": "stdout",
          "text": [
            "La exactitud  del modelo BNB es 77.0%\n"
          ]
        }
      ]
    },
    {
      "cell_type": "code",
      "source": [
        "print(f'La exactitud  del modelo DTC es {accuracy_score(y_test, prevision_dtc).round(2)*100}%')"
      ],
      "metadata": {
        "id": "_tjEPeEKFWF7",
        "colab": {
          "base_uri": "https://localhost:8080/"
        },
        "outputId": "8b70a363-75dc-445b-8300-f9b6816335ef"
      },
      "execution_count": 102,
      "outputs": [
        {
          "output_type": "stream",
          "name": "stdout",
          "text": [
            "La exactitud  del modelo DTC es 80.0%\n"
          ]
        }
      ]
    },
    {
      "cell_type": "markdown",
      "source": [
        "Esta métrica no es suficiente para concluir que modelo es mejor que los otros dos, para ello calculamos una métrica más: la precisión."
      ],
      "metadata": {
        "id": "cCQKrUvDenMu"
      }
    },
    {
      "cell_type": "markdown",
      "source": [
        "**Precisión (Precision):**"
      ],
      "metadata": {
        "id": "WNUIVrOdF31r"
      }
    },
    {
      "cell_type": "markdown",
      "source": [
        "**La precisión** evalúa la proporción de verdaderos positivos entre las predicciones dadas como positivas por el modelo. Esta se obtiene dividiendo los verdaderos positivos entre la suma de las previsiones positivas, calcula cuántas observaciones fueron clasificadas correctamente como positivas ($TP$).\n",
        "\n",
        "> $precision$ = ${TP \\over TP + FP}$\n",
        "\n",
        "La precisión puede ser utilizada en situaciones en las que los Falsos Positivos son más perjudiciales que los Falsos Negativos. Por ejemplo, en un modelo de clasificación para reconocer una buena inversión."
      ],
      "metadata": {
        "id": "qBYQEfgkKqJv"
      }
    },
    {
      "cell_type": "code",
      "source": [
        "from sklearn.metrics import precision_score\n",
        "print(f'La precision del modelo KNN es {precision_score(y_test, prevision_knn).round(2)*100}%')"
      ],
      "metadata": {
        "id": "jXv54wptFTRV",
        "colab": {
          "base_uri": "https://localhost:8080/"
        },
        "outputId": "1cdd1f94-3313-4acb-fcee-54f2718b5bfc"
      },
      "execution_count": 103,
      "outputs": [
        {
          "output_type": "stream",
          "name": "stdout",
          "text": [
            "La precision del modelo KNN es 76.0%\n"
          ]
        }
      ]
    },
    {
      "cell_type": "code",
      "source": [
        "print(f'La precision del modelo BNB es {precision_score(y_test, prevision_bnb).round(2)*100}%')"
      ],
      "metadata": {
        "id": "IuLFOMtqFTX-",
        "colab": {
          "base_uri": "https://localhost:8080/"
        },
        "outputId": "93d82dd0-d24b-4eab-e89c-60527d8cb924"
      },
      "execution_count": 104,
      "outputs": [
        {
          "output_type": "stream",
          "name": "stdout",
          "text": [
            "La precision del modelo BNB es 73.0%\n"
          ]
        }
      ]
    },
    {
      "cell_type": "code",
      "source": [
        "print(f'La precision del modelo DTC es {precision_score(y_test, prevision_dtc).round(2)*100}%')"
      ],
      "metadata": {
        "id": "2qw9yPObFTeT",
        "colab": {
          "base_uri": "https://localhost:8080/"
        },
        "outputId": "bf6412f3-1137-41b2-cf1a-4d3c32eb0299"
      },
      "execution_count": 105,
      "outputs": [
        {
          "output_type": "stream",
          "name": "stdout",
          "text": [
            "La precision del modelo DTC es 79.0%\n"
          ]
        }
      ]
    },
    {
      "cell_type": "markdown",
      "source": [
        "El modelo DTC presenta la mejor precision"
      ],
      "metadata": {
        "id": "npdSB-Nhl5sB"
      }
    },
    {
      "cell_type": "markdown",
      "source": [
        "**Sensibilidad (Recall):**\n"
      ],
      "metadata": {
        "id": "_ABnYKhcFwoL"
      }
    },
    {
      "cell_type": "markdown",
      "source": [
        "**La sensibilidad** evalúa la proporción de verdaderos positivos entre todos los valores positivos reales. Esta se obtiene dividiendo los verdaderos positivos entre la suma de los positivos reales, calcula qué tan bien el modelo clasifica correctamente un resultado positivo ($TP$).\n",
        "\n",
        "> $recall$ = ${TP \\over TP + FN}$\n",
        "\n",
        "La sensibilidad es utilizada en situaciones en las cuales los Falsos Negativos son considerados más perjudiciales que los Falsos Positivos."
      ],
      "metadata": {
        "id": "K-TDufFOKtiP"
      }
    },
    {
      "cell_type": "code",
      "source": [
        "from sklearn.metrics import recall_score\n",
        "print(f'La sensibilidad del modelo KNN es {recall_score(y_test, prevision_knn).round(2)*100}%')"
      ],
      "metadata": {
        "id": "DAiJW2xPFQ5Q",
        "colab": {
          "base_uri": "https://localhost:8080/"
        },
        "outputId": "f8a56d01-9e52-497e-c778-0c96dd98352f"
      },
      "execution_count": 106,
      "outputs": [
        {
          "output_type": "stream",
          "name": "stdout",
          "text": [
            "La sensibilidadn del modelo KNN es 90.0%\n"
          ]
        }
      ]
    },
    {
      "cell_type": "code",
      "source": [
        "print(f'La sensibilidad del modelo BNB es {recall_score(y_test, prevision_bnb).round(2)*100}%')"
      ],
      "metadata": {
        "id": "FsJkc4DTFRHl",
        "colab": {
          "base_uri": "https://localhost:8080/"
        },
        "outputId": "c3a49d98-7f38-4052-85cf-8554a2002c61"
      },
      "execution_count": 107,
      "outputs": [
        {
          "output_type": "stream",
          "name": "stdout",
          "text": [
            "La sensibilidadn del modelo BNB es 85.0%\n"
          ]
        }
      ]
    },
    {
      "cell_type": "code",
      "source": [
        "print(f'La sensibilidad del modelo DTC es {recall_score(y_test, prevision_dtc).round(2)*100}%')"
      ],
      "metadata": {
        "colab": {
          "base_uri": "https://localhost:8080/"
        },
        "id": "kUmMplWDk6KJ",
        "outputId": "c3c35e0d-c819-4b4b-8ae1-db47a03d9f69"
      },
      "execution_count": 108,
      "outputs": [
        {
          "output_type": "stream",
          "name": "stdout",
          "text": [
            "La sensibilidadn del modelo DTC es 82.0%\n"
          ]
        }
      ]
    },
    {
      "cell_type": "markdown",
      "source": [
        "**Problema:**\n",
        "Vamos a suponer que tenemos un conjunto de información sobre pacientes bajo sospecha de sarampión. Para auxiliar al(la) médico(a) en la toma de decisiones sobre el diagnóstico, aplicamos un modelo de clasificación y obtenemos los siguientes resultados:\n",
        "\n",
        "`diagnostico_previsto = [0,0,0,0,1,1,1,1,0,1,0,1]`\n",
        "\n",
        "`diagnostico_real = [1,1,0,0,1,1,1,0,1,0,1,0]`\n",
        "\n",
        "Sabiendo que el valor **1** representa caso confirmado de sarampión y el valor **0** no es un caso de sarampión, calcula el desempeño de este modelo de clasificación usando las métricas Recall y F1-score."
      ],
      "metadata": {
        "id": "Ne600HmSmab7"
      }
    },
    {
      "cell_type": "code",
      "source": [
        "diagnostico_previsto = [0,0,0,0,1,1,1,1,0,1,0,1]\n",
        "diagnostico_real = [1,1,0,0,1,1,1,0,1,0,1,0]"
      ],
      "metadata": {
        "id": "z6otjjhCnIqc"
      },
      "execution_count": 110,
      "outputs": []
    },
    {
      "cell_type": "code",
      "source": [
        "sensibilidad = recall_score(diagnostico_real, diagnostico_previsto).round(2)*100\n",
        "print(f'La sensibilidad del modelo es {sensibilidad}%')"
      ],
      "metadata": {
        "colab": {
          "base_uri": "https://localhost:8080/"
        },
        "id": "H7uqhubVnxA_",
        "outputId": "a6f76d51-1a21-44d0-febb-51eeee57b83d"
      },
      "execution_count": 115,
      "outputs": [
        {
          "output_type": "stream",
          "name": "stdout",
          "text": [
            "La sensibilidad del modelo es 43.0%\n"
          ]
        }
      ]
    },
    {
      "cell_type": "code",
      "source": [
        "precision = precision_score(diagnostico_real, diagnostico_previsto).round(2)*100\n",
        "print(f'La precision del modelo es {precision}%')"
      ],
      "metadata": {
        "colab": {
          "base_uri": "https://localhost:8080/"
        },
        "id": "jMpI92O_oDKs",
        "outputId": "7355cbe2-232a-4952-c904-9a320d96a259"
      },
      "execution_count": 116,
      "outputs": [
        {
          "output_type": "stream",
          "name": "stdout",
          "text": [
            "La precision del modelo es 50.0%\n"
          ]
        }
      ]
    },
    {
      "cell_type": "code",
      "source": [
        "f1 = 2 * (precision * sensibilidad)/(precision + sensibilidad)\n",
        "print(f'El equilibrio f1 es {f1.round(2)}%')"
      ],
      "metadata": {
        "colab": {
          "base_uri": "https://localhost:8080/"
        },
        "id": "q4oqZqd7oKBx",
        "outputId": "0c7c2179-9878-46c2-b156-8cb6bccae5c5"
      },
      "execution_count": 120,
      "outputs": [
        {
          "output_type": "stream",
          "name": "stdout",
          "text": [
            "El equilibrio f1 es 46.24%\n"
          ]
        }
      ]
    },
    {
      "cell_type": "markdown",
      "source": [
        "**Especificidad (Specificity):**\n",
        "\n"
      ],
      "metadata": {
        "id": "Nz-zI4-7GD5u"
      }
    },
    {
      "cell_type": "markdown",
      "source": [
        "**La especificidad** evalúa la proporción de verdaderos negativos entre todos los valores negativos reales. Esta se obtiene dividiendo los verdaderos negativos entre la suma de los negativos reales.\n",
        "\n",
        "> $Specificity$ = ${TN \\over TN + FP}$"
      ],
      "metadata": {
        "id": "zRLPu80yKwUF"
      }
    },
    {
      "cell_type": "code",
      "source": [],
      "metadata": {
        "id": "r7w82FewFRPk"
      },
      "execution_count": 89,
      "outputs": []
    },
    {
      "cell_type": "markdown",
      "source": [
        "**F1 Score:**\n"
      ],
      "metadata": {
        "id": "xyTMbnAMGcSl"
      }
    },
    {
      "cell_type": "markdown",
      "source": [
        "Es un equilibrio entre la sensibilidad y la precisión, siendo la media armónica entre las dos métricas.\n",
        "\n",
        "> $f1$ = ${2*{precision*recall  \\over precision+recall}}$"
      ],
      "metadata": {
        "id": "WcAzWNyoKz4B"
      }
    },
    {
      "cell_type": "markdown",
      "source": [
        "**Lo importante de esta Sección:**\n",
        "\n",
        "- Explicar cómo funciona la matriz de confusión;\n",
        "- Diferenciar las principales métricas (exactitud, precisión y sensibilidad) para evaluar un modelo de clasificación;\n",
        "- Comparar otras métricas que pueden ser usadas dependiendo del problema que involucre a los datos;\n",
        "- Calcular cada una de estas métricas para el dataset;\n",
        "- Seleccionar el mejor modelo para los datos."
      ],
      "metadata": {
        "id": "ahwcpLOIqSZe"
      }
    },
    {
      "cell_type": "markdown",
      "source": [
        "**Fin del cuaderno**"
      ],
      "metadata": {
        "id": "98pFwQXJqjyX"
      }
    }
  ]
}